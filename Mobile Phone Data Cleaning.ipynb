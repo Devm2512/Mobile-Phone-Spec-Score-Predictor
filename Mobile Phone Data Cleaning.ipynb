{
 "cells": [
  {
   "cell_type": "code",
   "execution_count": 1,
   "id": "9cb09709",
   "metadata": {},
   "outputs": [],
   "source": [
    "import numpy as np\n",
    "import pandas as pd\n",
    "import matplotlib.pyplot as plt\n",
    "import seaborn as sns"
   ]
  },
  {
   "cell_type": "code",
   "execution_count": 2,
   "id": "e812eac7",
   "metadata": {},
   "outputs": [],
   "source": [
    "df = pd.read_csv('C:/Users/DEV/Downloads/mobile phone price prediction.csv')"
   ]
  },
  {
   "cell_type": "code",
   "execution_count": 3,
   "id": "c4f3947c",
   "metadata": {},
   "outputs": [
    {
     "data": {
      "text/html": [
       "<div>\n",
       "<style scoped>\n",
       "    .dataframe tbody tr th:only-of-type {\n",
       "        vertical-align: middle;\n",
       "    }\n",
       "\n",
       "    .dataframe tbody tr th {\n",
       "        vertical-align: top;\n",
       "    }\n",
       "\n",
       "    .dataframe thead th {\n",
       "        text-align: right;\n",
       "    }\n",
       "</style>\n",
       "<table border=\"1\" class=\"dataframe\">\n",
       "  <thead>\n",
       "    <tr style=\"text-align: right;\">\n",
       "      <th></th>\n",
       "      <th>Unnamed: 0</th>\n",
       "      <th>Name</th>\n",
       "      <th>Rating</th>\n",
       "      <th>Spec_score</th>\n",
       "      <th>No_of_sim</th>\n",
       "      <th>Ram</th>\n",
       "      <th>Battery</th>\n",
       "      <th>Display</th>\n",
       "      <th>Camera</th>\n",
       "      <th>External_Memory</th>\n",
       "      <th>Android_version</th>\n",
       "      <th>Price</th>\n",
       "      <th>company</th>\n",
       "      <th>Inbuilt_memory</th>\n",
       "      <th>fast_charging</th>\n",
       "      <th>Screen_resolution</th>\n",
       "      <th>Processor</th>\n",
       "      <th>Processor_name</th>\n",
       "    </tr>\n",
       "  </thead>\n",
       "  <tbody>\n",
       "    <tr>\n",
       "      <th>0</th>\n",
       "      <td>0</td>\n",
       "      <td>Samsung Galaxy F14 5G</td>\n",
       "      <td>4.65</td>\n",
       "      <td>68</td>\n",
       "      <td>Dual Sim, 3G, 4G, 5G, VoLTE,</td>\n",
       "      <td>4 GB RAM</td>\n",
       "      <td>6000 mAh Battery</td>\n",
       "      <td>6.6 inches</td>\n",
       "      <td>50 MP + 2 MP Dual Rear &amp;amp; 13 MP Front Camera</td>\n",
       "      <td>Memory Card Supported, upto 1 TB</td>\n",
       "      <td>13</td>\n",
       "      <td>9,999</td>\n",
       "      <td>Samsung</td>\n",
       "      <td>128 GB inbuilt</td>\n",
       "      <td>25W Fast Charging</td>\n",
       "      <td>2408 x 1080 px Display with Water Drop Notch</td>\n",
       "      <td>Octa Core Processor</td>\n",
       "      <td>Exynos 1330</td>\n",
       "    </tr>\n",
       "    <tr>\n",
       "      <th>1</th>\n",
       "      <td>1</td>\n",
       "      <td>Samsung Galaxy A11</td>\n",
       "      <td>4.20</td>\n",
       "      <td>63</td>\n",
       "      <td>Dual Sim, 3G, 4G, VoLTE,</td>\n",
       "      <td>2 GB RAM</td>\n",
       "      <td>4000 mAh Battery</td>\n",
       "      <td>6.4 inches</td>\n",
       "      <td>13 MP + 5 MP + 2 MP Triple Rear &amp;amp; 8 MP Fro...</td>\n",
       "      <td>Memory Card Supported, upto 512 GB</td>\n",
       "      <td>10</td>\n",
       "      <td>9,990</td>\n",
       "      <td>Samsung</td>\n",
       "      <td>32 GB inbuilt</td>\n",
       "      <td>15W Fast Charging</td>\n",
       "      <td>720 x 1560 px Display with Punch Hole</td>\n",
       "      <td>1.8 GHz Processor</td>\n",
       "      <td>Octa Core</td>\n",
       "    </tr>\n",
       "    <tr>\n",
       "      <th>2</th>\n",
       "      <td>2</td>\n",
       "      <td>Samsung Galaxy A13</td>\n",
       "      <td>4.30</td>\n",
       "      <td>75</td>\n",
       "      <td>Dual Sim, 3G, 4G, VoLTE,</td>\n",
       "      <td>4 GB RAM</td>\n",
       "      <td>5000 mAh Battery</td>\n",
       "      <td>6.6 inches</td>\n",
       "      <td>50 MP Quad Rear &amp;amp; 8 MP Front Camera</td>\n",
       "      <td>Memory Card Supported, upto 1 TB</td>\n",
       "      <td>12</td>\n",
       "      <td>11,999</td>\n",
       "      <td>Samsung</td>\n",
       "      <td>64 GB inbuilt</td>\n",
       "      <td>25W Fast Charging</td>\n",
       "      <td>1080 x 2408 px Display with Water Drop Notch</td>\n",
       "      <td>2 GHz Processor</td>\n",
       "      <td>Octa Core</td>\n",
       "    </tr>\n",
       "    <tr>\n",
       "      <th>3</th>\n",
       "      <td>3</td>\n",
       "      <td>Samsung Galaxy F23</td>\n",
       "      <td>4.10</td>\n",
       "      <td>73</td>\n",
       "      <td>Dual Sim, 3G, 4G, VoLTE,</td>\n",
       "      <td>4 GB RAM</td>\n",
       "      <td>6000 mAh Battery</td>\n",
       "      <td>6.4 inches</td>\n",
       "      <td>48 MP Quad Rear &amp;amp; 13 MP Front Camera</td>\n",
       "      <td>Memory Card Supported, upto 1 TB</td>\n",
       "      <td>12</td>\n",
       "      <td>11,999</td>\n",
       "      <td>Samsung</td>\n",
       "      <td>64 GB inbuilt</td>\n",
       "      <td>NaN</td>\n",
       "      <td>720 x 1600 px</td>\n",
       "      <td>Octa Core</td>\n",
       "      <td>Helio G88</td>\n",
       "    </tr>\n",
       "    <tr>\n",
       "      <th>4</th>\n",
       "      <td>4</td>\n",
       "      <td>Samsung Galaxy A03s (4GB RAM + 64GB)</td>\n",
       "      <td>4.10</td>\n",
       "      <td>69</td>\n",
       "      <td>Dual Sim, 3G, 4G, VoLTE,</td>\n",
       "      <td>4 GB RAM</td>\n",
       "      <td>5000 mAh Battery</td>\n",
       "      <td>6.5 inches</td>\n",
       "      <td>13 MP + 2 MP + 2 MP Triple Rear &amp;amp; 5 MP Fro...</td>\n",
       "      <td>Memory Card Supported, upto 1 TB</td>\n",
       "      <td>11</td>\n",
       "      <td>11,999</td>\n",
       "      <td>Samsung</td>\n",
       "      <td>64 GB inbuilt</td>\n",
       "      <td>15W Fast Charging</td>\n",
       "      <td>720 x 1600 px Display with Water Drop Notch</td>\n",
       "      <td>Octa Core</td>\n",
       "      <td>Helio P35</td>\n",
       "    </tr>\n",
       "    <tr>\n",
       "      <th>...</th>\n",
       "      <td>...</td>\n",
       "      <td>...</td>\n",
       "      <td>...</td>\n",
       "      <td>...</td>\n",
       "      <td>...</td>\n",
       "      <td>...</td>\n",
       "      <td>...</td>\n",
       "      <td>...</td>\n",
       "      <td>...</td>\n",
       "      <td>...</td>\n",
       "      <td>...</td>\n",
       "      <td>...</td>\n",
       "      <td>...</td>\n",
       "      <td>...</td>\n",
       "      <td>...</td>\n",
       "      <td>...</td>\n",
       "      <td>...</td>\n",
       "      <td>...</td>\n",
       "    </tr>\n",
       "    <tr>\n",
       "      <th>1365</th>\n",
       "      <td>1365</td>\n",
       "      <td>TCL 40R</td>\n",
       "      <td>4.05</td>\n",
       "      <td>75</td>\n",
       "      <td>Dual Sim, 3G, 4G, 5G, VoLTE,</td>\n",
       "      <td>4 GB RAM</td>\n",
       "      <td>5000 mAh Battery</td>\n",
       "      <td>6.6 inches</td>\n",
       "      <td>50 MP + 2 MP + 2 MP Triple Rear &amp;amp; 8 MP Fro...</td>\n",
       "      <td>Memory Card (Hybrid)</td>\n",
       "      <td>12</td>\n",
       "      <td>18,999</td>\n",
       "      <td>TCL</td>\n",
       "      <td>64 GB inbuilt</td>\n",
       "      <td>15W Fast Charging</td>\n",
       "      <td>720 x 1612 px</td>\n",
       "      <td>Octa Core</td>\n",
       "      <td>Dimensity 700 5G</td>\n",
       "    </tr>\n",
       "    <tr>\n",
       "      <th>1366</th>\n",
       "      <td>1366</td>\n",
       "      <td>TCL 50 XL NxtPaper 5G</td>\n",
       "      <td>4.10</td>\n",
       "      <td>80</td>\n",
       "      <td>Dual Sim, 3G, 4G, VoLTE,</td>\n",
       "      <td>8 GB RAM</td>\n",
       "      <td>5000 mAh Battery</td>\n",
       "      <td>6.8 inches</td>\n",
       "      <td>50 MP + 2 MP Dual Rear &amp;amp; 16 MP Front Camera</td>\n",
       "      <td>Memory Card (Hybrid)</td>\n",
       "      <td>14</td>\n",
       "      <td>24,990</td>\n",
       "      <td>TCL</td>\n",
       "      <td>128 GB inbuilt</td>\n",
       "      <td>33W Fast Charging</td>\n",
       "      <td>1200 x 2400 px</td>\n",
       "      <td>Octa Core</td>\n",
       "      <td>Dimensity 7050</td>\n",
       "    </tr>\n",
       "    <tr>\n",
       "      <th>1367</th>\n",
       "      <td>1367</td>\n",
       "      <td>TCL 50 XE NxtPaper 5G</td>\n",
       "      <td>4.00</td>\n",
       "      <td>80</td>\n",
       "      <td>Dual Sim, 3G, 4G, 5G, VoLTE,</td>\n",
       "      <td>6 GB RAM</td>\n",
       "      <td>5000 mAh Battery</td>\n",
       "      <td>6.6 inches</td>\n",
       "      <td>50 MP + 2 MP Dual Rear &amp;amp; 16 MP Front Camera</td>\n",
       "      <td>Memory Card Supported, upto 1 TB</td>\n",
       "      <td>13</td>\n",
       "      <td>23,990</td>\n",
       "      <td>TCL</td>\n",
       "      <td>256 GB inbuilt</td>\n",
       "      <td>18W Fast Charging</td>\n",
       "      <td>720 x 1612 px</td>\n",
       "      <td>Octa Core</td>\n",
       "      <td>Dimensity 6080</td>\n",
       "    </tr>\n",
       "    <tr>\n",
       "      <th>1368</th>\n",
       "      <td>1368</td>\n",
       "      <td>TCL 40 NxtPaper 5G</td>\n",
       "      <td>4.50</td>\n",
       "      <td>79</td>\n",
       "      <td>Dual Sim, 3G, 4G, 5G, VoLTE,</td>\n",
       "      <td>6 GB RAM</td>\n",
       "      <td>5000 mAh Battery</td>\n",
       "      <td>6.6 inches</td>\n",
       "      <td>50 MP + 2 MP + 2 MP Triple Rear &amp;amp; 8 MP Fro...</td>\n",
       "      <td>Memory Card Supported, upto 1 TB</td>\n",
       "      <td>13</td>\n",
       "      <td>22,499</td>\n",
       "      <td>TCL</td>\n",
       "      <td>256 GB inbuilt</td>\n",
       "      <td>15W Fast Charging</td>\n",
       "      <td>720 x 1612 px</td>\n",
       "      <td>Octa Core</td>\n",
       "      <td>Dimensity 6020</td>\n",
       "    </tr>\n",
       "    <tr>\n",
       "      <th>1369</th>\n",
       "      <td>1369</td>\n",
       "      <td>TCL Trifold</td>\n",
       "      <td>4.65</td>\n",
       "      <td>93</td>\n",
       "      <td>Dual Sim, 3G, 4G, 5G, VoLTE, Vo5G,</td>\n",
       "      <td>12 GB RAM</td>\n",
       "      <td>4600 mAh Battery</td>\n",
       "      <td>10 inches</td>\n",
       "      <td>Foldable Display, Dual Display</td>\n",
       "      <td>50 MP + 48 MP + 8 MP Triple Rear &amp;amp; 32 MP F...</td>\n",
       "      <td>13</td>\n",
       "      <td>1,19,990</td>\n",
       "      <td>TCL</td>\n",
       "      <td>256 GB inbuilt</td>\n",
       "      <td>67W Fast Charging</td>\n",
       "      <td>1916 x 2160 px</td>\n",
       "      <td>Octa Core</td>\n",
       "      <td>Snapdragon 8 Gen2</td>\n",
       "    </tr>\n",
       "  </tbody>\n",
       "</table>\n",
       "<p>1370 rows × 18 columns</p>\n",
       "</div>"
      ],
      "text/plain": [
       "      Unnamed: 0                                  Name  Rating  Spec_score  \\\n",
       "0              0                 Samsung Galaxy F14 5G    4.65          68   \n",
       "1              1                    Samsung Galaxy A11    4.20          63   \n",
       "2              2                    Samsung Galaxy A13    4.30          75   \n",
       "3              3                    Samsung Galaxy F23    4.10          73   \n",
       "4              4  Samsung Galaxy A03s (4GB RAM + 64GB)    4.10          69   \n",
       "...          ...                                   ...     ...         ...   \n",
       "1365        1365                               TCL 40R    4.05          75   \n",
       "1366        1366                 TCL 50 XL NxtPaper 5G    4.10          80   \n",
       "1367        1367                 TCL 50 XE NxtPaper 5G    4.00          80   \n",
       "1368        1368                    TCL 40 NxtPaper 5G    4.50          79   \n",
       "1369        1369                           TCL Trifold    4.65          93   \n",
       "\n",
       "                                No_of_sim        Ram            Battery  \\\n",
       "0           Dual Sim, 3G, 4G, 5G, VoLTE,    4 GB RAM  6000 mAh Battery    \n",
       "1               Dual Sim, 3G, 4G, VoLTE,    2 GB RAM  4000 mAh Battery    \n",
       "2               Dual Sim, 3G, 4G, VoLTE,    4 GB RAM  5000 mAh Battery    \n",
       "3               Dual Sim, 3G, 4G, VoLTE,    4 GB RAM   6000 mAh Battery   \n",
       "4               Dual Sim, 3G, 4G, VoLTE,    4 GB RAM  5000 mAh Battery    \n",
       "...                                   ...        ...                ...   \n",
       "1365        Dual Sim, 3G, 4G, 5G, VoLTE,    4 GB RAM  5000 mAh Battery    \n",
       "1366            Dual Sim, 3G, 4G, VoLTE,    8 GB RAM  5000 mAh Battery    \n",
       "1367        Dual Sim, 3G, 4G, 5G, VoLTE,    6 GB RAM  5000 mAh Battery    \n",
       "1368        Dual Sim, 3G, 4G, 5G, VoLTE,    6 GB RAM  5000 mAh Battery    \n",
       "1369  Dual Sim, 3G, 4G, 5G, VoLTE, Vo5G,   12 GB RAM  4600 mAh Battery    \n",
       "\n",
       "         Display                                             Camera  \\\n",
       "0     6.6 inches    50 MP + 2 MP Dual Rear &amp; 13 MP Front Camera   \n",
       "1     6.4 inches  13 MP + 5 MP + 2 MP Triple Rear &amp; 8 MP Fro...   \n",
       "2     6.6 inches            50 MP Quad Rear &amp; 8 MP Front Camera   \n",
       "3     6.4 inches           48 MP Quad Rear &amp; 13 MP Front Camera   \n",
       "4     6.5 inches  13 MP + 2 MP + 2 MP Triple Rear &amp; 5 MP Fro...   \n",
       "...          ...                                                ...   \n",
       "1365  6.6 inches  50 MP + 2 MP + 2 MP Triple Rear &amp; 8 MP Fro...   \n",
       "1366  6.8 inches    50 MP + 2 MP Dual Rear &amp; 16 MP Front Camera   \n",
       "1367  6.6 inches    50 MP + 2 MP Dual Rear &amp; 16 MP Front Camera   \n",
       "1368  6.6 inches  50 MP + 2 MP + 2 MP Triple Rear &amp; 8 MP Fro...   \n",
       "1369   10 inches                     Foldable Display, Dual Display   \n",
       "\n",
       "                                        External_Memory Android_version  \\\n",
       "0                      Memory Card Supported, upto 1 TB              13   \n",
       "1                    Memory Card Supported, upto 512 GB              10   \n",
       "2                      Memory Card Supported, upto 1 TB              12   \n",
       "3                      Memory Card Supported, upto 1 TB              12   \n",
       "4                      Memory Card Supported, upto 1 TB              11   \n",
       "...                                                 ...             ...   \n",
       "1365                               Memory Card (Hybrid)              12   \n",
       "1366                               Memory Card (Hybrid)              14   \n",
       "1367                   Memory Card Supported, upto 1 TB              13   \n",
       "1368                   Memory Card Supported, upto 1 TB              13   \n",
       "1369  50 MP + 48 MP + 8 MP Triple Rear &amp; 32 MP F...              13   \n",
       "\n",
       "         Price  company   Inbuilt_memory       fast_charging  \\\n",
       "0        9,999  Samsung   128 GB inbuilt   25W Fast Charging   \n",
       "1        9,990  Samsung    32 GB inbuilt   15W Fast Charging   \n",
       "2       11,999  Samsung    64 GB inbuilt   25W Fast Charging   \n",
       "3       11,999  Samsung    64 GB inbuilt                 NaN   \n",
       "4       11,999  Samsung    64 GB inbuilt   15W Fast Charging   \n",
       "...        ...      ...              ...                 ...   \n",
       "1365    18,999      TCL    64 GB inbuilt   15W Fast Charging   \n",
       "1366    24,990      TCL   128 GB inbuilt   33W Fast Charging   \n",
       "1367    23,990      TCL   256 GB inbuilt   18W Fast Charging   \n",
       "1368    22,499      TCL   256 GB inbuilt   15W Fast Charging   \n",
       "1369  1,19,990      TCL   256 GB inbuilt   67W Fast Charging   \n",
       "\n",
       "                                  Screen_resolution             Processor  \\\n",
       "0      2408 x 1080 px Display with Water Drop Notch   Octa Core Processor   \n",
       "1             720 x 1560 px Display with Punch Hole     1.8 GHz Processor   \n",
       "2      1080 x 2408 px Display with Water Drop Notch       2 GHz Processor   \n",
       "3                                     720 x 1600 px             Octa Core   \n",
       "4       720 x 1600 px Display with Water Drop Notch             Octa Core   \n",
       "...                                             ...                   ...   \n",
       "1365                                  720 x 1612 px             Octa Core   \n",
       "1366                                 1200 x 2400 px             Octa Core   \n",
       "1367                                  720 x 1612 px             Octa Core   \n",
       "1368                                  720 x 1612 px             Octa Core   \n",
       "1369                                 1916 x 2160 px             Octa Core   \n",
       "\n",
       "         Processor_name  \n",
       "0           Exynos 1330  \n",
       "1             Octa Core  \n",
       "2             Octa Core  \n",
       "3             Helio G88  \n",
       "4             Helio P35  \n",
       "...                 ...  \n",
       "1365   Dimensity 700 5G  \n",
       "1366     Dimensity 7050  \n",
       "1367     Dimensity 6080  \n",
       "1368     Dimensity 6020  \n",
       "1369  Snapdragon 8 Gen2  \n",
       "\n",
       "[1370 rows x 18 columns]"
      ]
     },
     "execution_count": 3,
     "metadata": {},
     "output_type": "execute_result"
    }
   ],
   "source": [
    "df"
   ]
  },
  {
   "cell_type": "markdown",
   "id": "d2f97a2d",
   "metadata": {},
   "source": [
    "# Basic Information About the Dataset"
   ]
  },
  {
   "cell_type": "code",
   "execution_count": 4,
   "id": "594265dc",
   "metadata": {},
   "outputs": [
    {
     "data": {
      "text/plain": [
       "(1370, 18)"
      ]
     },
     "execution_count": 4,
     "metadata": {},
     "output_type": "execute_result"
    }
   ],
   "source": [
    "# Finding The Shape of The Dataset\n",
    "df.shape"
   ]
  },
  {
   "cell_type": "markdown",
   "id": "30e92e75",
   "metadata": {},
   "source": [
    "There are total 1370 rows and 18 Columns."
   ]
  },
  {
   "cell_type": "code",
   "execution_count": 5,
   "id": "f7de624e",
   "metadata": {},
   "outputs": [
    {
     "name": "stdout",
     "output_type": "stream",
     "text": [
      "<class 'pandas.core.frame.DataFrame'>\n",
      "RangeIndex: 1370 entries, 0 to 1369\n",
      "Data columns (total 18 columns):\n",
      " #   Column             Non-Null Count  Dtype  \n",
      "---  ------             --------------  -----  \n",
      " 0   Unnamed: 0         1370 non-null   int64  \n",
      " 1   Name               1370 non-null   object \n",
      " 2   Rating             1370 non-null   float64\n",
      " 3   Spec_score         1370 non-null   int64  \n",
      " 4   No_of_sim          1370 non-null   object \n",
      " 5   Ram                1370 non-null   object \n",
      " 6   Battery            1370 non-null   object \n",
      " 7   Display            1370 non-null   object \n",
      " 8   Camera             1370 non-null   object \n",
      " 9   External_Memory    1370 non-null   object \n",
      " 10  Android_version    927 non-null    object \n",
      " 11  Price              1370 non-null   object \n",
      " 12  company            1370 non-null   object \n",
      " 13  Inbuilt_memory     1351 non-null   object \n",
      " 14  fast_charging      1281 non-null   object \n",
      " 15  Screen_resolution  1368 non-null   object \n",
      " 16  Processor          1342 non-null   object \n",
      " 17  Processor_name     1370 non-null   object \n",
      "dtypes: float64(1), int64(2), object(15)\n",
      "memory usage: 192.8+ KB\n"
     ]
    }
   ],
   "source": [
    "# Getting information about the basic columns in the data\n",
    "df.info()"
   ]
  },
  {
   "cell_type": "code",
   "execution_count": 6,
   "id": "1057f64d",
   "metadata": {},
   "outputs": [
    {
     "data": {
      "text/plain": [
       "0"
      ]
     },
     "execution_count": 6,
     "metadata": {},
     "output_type": "execute_result"
    }
   ],
   "source": [
    "# Let's check duplicate values\n",
    "df.duplicated().sum()"
   ]
  },
  {
   "cell_type": "markdown",
   "id": "7234b206",
   "metadata": {},
   "source": [
    "## What are some of the problems based on info function"
   ]
  },
  {
   "cell_type": "markdown",
   "id": "fdc01fa6",
   "metadata": {},
   "source": [
    "**1. Wrong Data types**\n",
    "\n",
    "    Ram -> Int\n",
    "\n",
    "    Battery -> Int\n",
    "\n",
    "    Dispaly ->\n",
    "\n",
    "    Camera ->\n",
    "\n",
    "    Android_version -> Int\n",
    "\n",
    "    Price -> Int\n",
    "\n",
    "    Inbuilt Memory -> Int"
   ]
  },
  {
   "cell_type": "markdown",
   "id": "d67149d4",
   "metadata": {},
   "source": [
    "**2. Missing Values Columns**\n",
    "\n",
    "Android_version\n",
    "\n",
    "Inbuilt_Memory\n",
    "\n",
    "fast_charging\n",
    "\n",
    "Screen_resolution\n",
    "\n",
    "Processor"
   ]
  },
  {
   "cell_type": "markdown",
   "id": "98171fa6",
   "metadata": {},
   "source": [
    "### Apply Unique function on Each column to identify what kind of values it holds"
   ]
  },
  {
   "cell_type": "markdown",
   "id": "d86ba493",
   "metadata": {},
   "source": [
    "#### Name"
   ]
  },
  {
   "cell_type": "code",
   "execution_count": 7,
   "id": "9cbf1b4d",
   "metadata": {},
   "outputs": [
    {
     "data": {
      "text/plain": [
       "1334"
      ]
     },
     "execution_count": 7,
     "metadata": {},
     "output_type": "execute_result"
    }
   ],
   "source": [
    "df['Name'].nunique()"
   ]
  },
  {
   "cell_type": "markdown",
   "id": "54780382",
   "metadata": {},
   "source": [
    "#### Rating"
   ]
  },
  {
   "cell_type": "code",
   "execution_count": 8,
   "id": "a3228f97",
   "metadata": {},
   "outputs": [
    {
     "data": {
      "text/plain": [
       "array([4.65, 4.2 , 4.3 , 4.1 , 4.4 , 4.05, 4.5 , 4.25, 4.75, 4.15, 4.35,\n",
       "       4.45, 4.6 , 4.  , 4.55, 4.7 , 3.95, 3.75, 3.9 , 3.85])"
      ]
     },
     "execution_count": 8,
     "metadata": {},
     "output_type": "execute_result"
    }
   ],
   "source": [
    "df['Rating'].unique()"
   ]
  },
  {
   "cell_type": "markdown",
   "id": "b7088fb5",
   "metadata": {},
   "source": [
    "#### Rating"
   ]
  },
  {
   "cell_type": "code",
   "execution_count": 9,
   "id": "e39c9ecd",
   "metadata": {},
   "outputs": [
    {
     "data": {
      "text/plain": [
       "array([68, 63, 75, 73, 69, 76, 71, 85, 78, 72, 74, 79, 80, 62, 81, 82, 87,\n",
       "       86, 88, 84, 83, 89, 91, 90, 96, 93, 92, 95, 65, 59, 42, 67, 60, 61,\n",
       "       54, 66, 70, 51, 64, 53, 77, 94, 98, 97, 58, 57, 49, 46, 56, 55],\n",
       "      dtype=int64)"
      ]
     },
     "execution_count": 9,
     "metadata": {},
     "output_type": "execute_result"
    }
   ],
   "source": [
    "df['Spec_score'].unique()"
   ]
  },
  {
   "cell_type": "markdown",
   "id": "ede760cb",
   "metadata": {},
   "source": [
    "#### No_of_sim"
   ]
  },
  {
   "cell_type": "code",
   "execution_count": 10,
   "id": "e4c824cf",
   "metadata": {},
   "outputs": [
    {
     "data": {
      "text/plain": [
       "array(['Dual Sim, 3G, 4G, 5G, VoLTE, ', 'Dual Sim, 3G, 4G, VoLTE, ',\n",
       "       'Dual Sim, 3G, 4G, 5G, VoLTE, Vo5G, ',\n",
       "       'Single Sim, 3G, 4G, 5G, VoLTE, ', 'Dual Sim, 3G, 4G, ',\n",
       "       'Single Sim, 3G, 4G, VoLTE, ', 'No Sim Supported, ',\n",
       "       'Single Sim, 3G, 4G, 5G, VoLTE, Vo5G, ', 'Dual Sim, 3G, VoLTE, '],\n",
       "      dtype=object)"
      ]
     },
     "execution_count": 10,
     "metadata": {},
     "output_type": "execute_result"
    }
   ],
   "source": [
    "df['No_of_sim'].unique()"
   ]
  },
  {
   "cell_type": "markdown",
   "id": "ef2bdbc3",
   "metadata": {},
   "source": [
    "#### RAM"
   ]
  },
  {
   "cell_type": "code",
   "execution_count": 11,
   "id": "4e88dbf5",
   "metadata": {},
   "outputs": [
    {
     "data": {
      "text/plain": [
       "array(['4 GB RAM', '2 GB RAM', '6 GB RAM', '8 GB RAM', '12 GB RAM',\n",
       "       '1 GB RAM', '3 GB RAM', '16 GB RAM', 'Helio G90T', '24 GB RAM',\n",
       "       '18 GB RAM', '1.5 GB RAM', '128 GB inbuilt',\n",
       "       '6000 mAh Battery with 22.5W Fast Charging', '256 GB inbuilt',\n",
       "       '512 GB inbuilt'], dtype=object)"
      ]
     },
     "execution_count": 11,
     "metadata": {},
     "output_type": "execute_result"
    }
   ],
   "source": [
    "df['Ram'].unique()"
   ]
  },
  {
   "cell_type": "markdown",
   "id": "f1f35465",
   "metadata": {},
   "source": [
    "First check the occurences of '128 GB inbuilt',\n",
    "       '6000 mAh Battery with 22.5W Fast Charging', '256 GB inbuilt',\n",
    "       '512 GB inbuilt' and then decide whether to **drop** them or **replace** them"
   ]
  },
  {
   "cell_type": "code",
   "execution_count": 12,
   "id": "33e02263",
   "metadata": {},
   "outputs": [
    {
     "data": {
      "text/plain": [
       "8 GB RAM                                     528\n",
       "4 GB RAM                                     253\n",
       "12 GB RAM                                    246\n",
       "6 GB RAM                                     214\n",
       "16 GB RAM                                     41\n",
       "3 GB RAM                                      38\n",
       "2 GB RAM                                      22\n",
       "256 GB inbuilt                                 8\n",
       "128 GB inbuilt                                 7\n",
       "18 GB RAM                                      4\n",
       "512 GB inbuilt                                 3\n",
       "24 GB RAM                                      2\n",
       "1 GB RAM                                       1\n",
       "Helio G90T                                     1\n",
       "1.5 GB RAM                                     1\n",
       "6000 mAh Battery with 22.5W Fast Charging      1\n",
       "Name: Ram, dtype: int64"
      ]
     },
     "execution_count": 12,
     "metadata": {},
     "output_type": "execute_result"
    }
   ],
   "source": [
    "df['Ram'].value_counts()"
   ]
  },
  {
   "cell_type": "markdown",
   "id": "bdc70823",
   "metadata": {},
   "source": [
    "We drop the values **Helio G90T** & **6000 mAh Battery with 22.5W Fast Charging **"
   ]
  },
  {
   "cell_type": "markdown",
   "id": "010a2c25",
   "metadata": {},
   "source": [
    "#### Battery"
   ]
  },
  {
   "cell_type": "code",
   "execution_count": 13,
   "id": "bf2b7246",
   "metadata": {},
   "outputs": [
    {
     "data": {
      "text/plain": [
       "array(['6000 mAh Battery ', '4000 mAh Battery ', '5000 mAh Battery ',\n",
       "       '6000 mAh Battery', '3500 mAh Battery', '4500 mAh Battery ',\n",
       "       '3400 mAh Battery ', '3300 mAh Battery ', '4050 mAh Battery ',\n",
       "       '3900 mAh Battery ', '4300 mAh Battery ', '4800 mAh Battery ',\n",
       "       '4200 mAh Battery ', '3700 mAh Battery ', '4400 mAh Battery ',\n",
       "       '3500 mAh Battery ', '4320 mAh Battery ', '4030 mAh Battery',\n",
       "       '1900 mAh Battery', '5000 mAh Battery', '2650 mAh Battery',\n",
       "       '3000 mAh Battery', '4600 mAh Battery ', '4100 mAh Battery ',\n",
       "       '5500 mAh Battery ', '4830 mAh Battery ', '4700 mAh Battery ',\n",
       "       '4810 mAh Battery ', '5100 mAh Battery ', '5400 mAh Battery ',\n",
       "       '4870 mAh Battery ', '5700 mAh Battery ', '4730 mAh Battery ',\n",
       "       '5100 mAh Battery', '6 GB RAM, 64 GB inbuilt', '5200 mAh Battery ',\n",
       "       '5240 mAh Battery ', '5050 mAh Battery ', '4310 mAh Battery ',\n",
       "       '4350 mAh Battery ', '4880 mAh Battery ', '4520 mAh Battery ',\n",
       "       '4260 mAh Battery ', '4820 mAh Battery ', '4805 mAh Battery ',\n",
       "       '5160 mAh Battery ', '5080 mAh Battery ', '5065 mAh Battery ',\n",
       "       '10500 mAh Battery ', '5200 mAh Battery', '5800 mAh Battery ',\n",
       "       '5300 mAh Battery ', '5450 mAh Battery ', '5600 mAh Battery ',\n",
       "       '3000 mAh Battery ', '2800 mAh Battery ', '4620 mAh Battery ',\n",
       "       '4385 mAh Battery ', '4410 mAh Battery ', '4355 mAh Battery ',\n",
       "       '4492 mAh Battery ', '4575 mAh Battery ', '5003 mAh Battery ',\n",
       "       '4821 mAh Battery ', '4000 mAh Battery', '7000 mAh Battery ',\n",
       "       '3900 mAh Battery', '3760 mAh Battery ', '2600 mAh Battery',\n",
       "       '4900 mAh Battery ', '4020 mAh Battery ', '4450 mAh Battery ',\n",
       "       '4610 mAh Battery ', '3800 mAh Battery ', '3440 mAh Battery ',\n",
       "       '2510 mAh Battery ', '6100 mAh Battery ', '2100 mAh Battery',\n",
       "       '4030 mAh Battery ', '5020 mAh Battery ', '4980 mAh Battery ',\n",
       "       '4250 mAh Battery ', '6.75 inches, 720 x 1600 px Display ',\n",
       "       '4460 mAh Battery ', '4815 mAh Battery ', '4750 mAh Battery ',\n",
       "       '5330 mAh Battery ', '5010 mAh Battery ', '4500 mAh Battery'],\n",
       "      dtype=object)"
      ]
     },
     "execution_count": 13,
     "metadata": {},
     "output_type": "execute_result"
    }
   ],
   "source": [
    "df['Battery'].unique()"
   ]
  },
  {
   "cell_type": "markdown",
   "id": "3a6f8969",
   "metadata": {},
   "source": [
    "Strip the battery column.\n",
    "\n",
    "**Different Values.**\n",
    "    '6 GB RAM, 64 GB inbuilt'\n",
    "    '6.75 inches, 720 x 1600 px Display '"
   ]
  },
  {
   "cell_type": "code",
   "execution_count": 14,
   "id": "302e0956",
   "metadata": {},
   "outputs": [
    {
     "data": {
      "text/plain": [
       "array(['6.6 inches', '6.4 inches', '6.5 inches', '6.1 inches',\n",
       "       '6.7 inches', '6.21 inches', '6.67 inches', '6.58 inches',\n",
       "       '6.71 inches', '6.78 inches', '6.8 inches', '6.56 inches',\n",
       "       '6.3 inches', '7.45 inches', '6.2 inches', '8.2 inches',\n",
       "       '7.6 inches', '8 inches', '7.63 inches', '6.22 inches',\n",
       "       '4.5 inches', '6.51 inches', '6.53 inches', '6.35 inches',\n",
       "       '6.55 inches', '6.64 inches', '5.2 inches', '5.5 inches',\n",
       "       '6.72 inches', '6.44 inches', '6.82 inches', '6.68 inches',\n",
       "       '7 inches', '6.74 inches', '8.03 inches', '8.02 inches',\n",
       "       '7.8 inches', '6.52 inches', '6.59 inches', '6.43 inches',\n",
       "       '4300 mAh Battery with 30W Fast Charging', '6.62 inches',\n",
       "       '6.57 inches', '6.73 inches', '6.83 inches', '7.1 inches',\n",
       "       '7.4 inches', '7.56 inches', '7.82 inches', '6.38 inches',\n",
       "       '6.79 inches', '6.61 inches', '6.69 inches', '12.1 inches',\n",
       "       '6.77 inches', '6.75 inches', '6.81 inches', '7.2 inches',\n",
       "       '7.71 inches', '7.92 inches', '6.76 inches', '7.9 inches',\n",
       "       '5.6 inches', '5.7 inches', '6.34 inches', '6.14 inches',\n",
       "       '6.03 inches', '8.3 inches', '5.9 inches', '5.92 inches',\n",
       "       '6 inches', '6.26 inches', '6.09 inches', '5.99 inches',\n",
       "       '6.92 inches', '5 inches', '6.45 inches', '6.9 inches',\n",
       "       '6.47 inches', '6.28 inches', '6.49 inches', '6.08 inches',\n",
       "       '7.85 inches', '7.11 inches', '6.95 inches',\n",
       "       '48 MP + 5 MP + 2 MP Triple Rear &amp; 8 MP Front Camera',\n",
       "       '6.94 inches', '7.09 inches', '10 inches'], dtype=object)"
      ]
     },
     "execution_count": 14,
     "metadata": {},
     "output_type": "execute_result"
    }
   ],
   "source": [
    "df['Display'].unique()"
   ]
  },
  {
   "cell_type": "markdown",
   "id": "89ac6c6b",
   "metadata": {},
   "source": [
    "**different values:**  '4300 mAh Battery with 30W Fast Charging', '48 MP + 5 MP + 2 MP Triple Rear &amp; 8 MP Front Camera'"
   ]
  },
  {
   "cell_type": "code",
   "execution_count": 15,
   "id": "13a49a41",
   "metadata": {},
   "outputs": [
    {
     "data": {
      "text/plain": [
       "array(['Memory Card Supported, upto 1 TB',\n",
       "       'Memory Card Supported, upto 512 GB', 'Memory Card Supported',\n",
       "       'Memory Card (Hybrid), upto 1 TB', 'Memory Card Not Supported',\n",
       "       'Memory Card (Hybrid)',\n",
       "       '12 MP + 12 MP Dual Rear &amp; 10 MP Front Camera', 'Android v13',\n",
       "       'Android v10', 'Android v12', 'Memory Card (Hybrid), upto 512 GB',\n",
       "       '50 MP + 12 MP + 5 MP Triple Rear &amp; 10 MP + 4 MP Dual Front Camera',\n",
       "       '200 MP Quad Rear &amp; 12 MP + 12 MP Dual Front Camera',\n",
       "       '50 MP + 12 MP + 10 MP Triple Rear &amp; 10 MP + 4 MP Dual Front Camera',\n",
       "       '50 MP + 12 MP + 10 MP Triple Rear &amp; 12 MP + 12 MP Dual Front Camera',\n",
       "       'Memory Card Supported, upto 256 GB',\n",
       "       'Memory Card Supported, upto 128 GB', 'Android v11', 'Android v15',\n",
       "       'Android v14', '50 MP + 12 MP Dual Rear &amp; 32 MP Front Camera',\n",
       "       '50 MP + 50 MP + 50 MP Triple Rear &amp; 32 MP + 32 MP Dual Front Camera',\n",
       "       '200 MP + 12 MP + 12 MP Triple Rear &amp; 32 MP + 32 MP Dual Front Camera',\n",
       "       '50 MP Quad Rear &amp; 16 MP Front Camera',\n",
       "       '64 MP + 50 MP + 50 MP Triple Rear &amp; 32 MP + 32 MP Dual Front Camera',\n",
       "       '50 MP Quad Rear &amp; 16 MP + 16 MP Dual Front Camera',\n",
       "       '48 MP + 48 MP + 10 MP Triple Rear &amp; 16 MP Front Camera',\n",
       "       '200 MP + 12 MP Dual Rear &amp; 32 MP Front Camera',\n",
       "       '50 MP + 12 MP + 12 MP Triple Rear &amp; 16 MP + 16 MP Dual Front Camera',\n",
       "       '64 MP + 12 MP + 12 MP Triple Rear &amp; 32 MP Front Camera',\n",
       "       'Memory Card Supported, upto 2 TB',\n",
       "       'Memory Card (Hybrid), upto 2 TB',\n",
       "       '48 MP Quad Rear &amp; 16 MP Front Camera',\n",
       "       '50 MP + 48 MP + 32 MP Triple Rear &amp; 32 MP Front Camera',\n",
       "       '50 MP + 8 MP Dual Rear &amp; 32 MP Front Camera',\n",
       "       '50 MP + 48 MP + 32 MP Triple Rear &amp; 32 MP + 32 MP Dual Front Camera',\n",
       "       '108 MP + 50 MP Dual Rear &amp; 32 MP Front Camera',\n",
       "       '64 MP + 10 MP + 8 MP Triple Rear &amp; 32 MP Front Camera',\n",
       "       '64 MP + 16 MP + 12 MP Triple Rear &amp; 16 MP Front Camera',\n",
       "       '108 MP + 50 MP + 32 MP Triple Rear &amp; 32 MP + 32 MP Dual Front Camera',\n",
       "       '64 MP + 48 MP + 48 MP Triple Rear &amp; 32 MP + 20 MP Dual Front Camera',\n",
       "       'Memory Card (Hybrid), upto 256 GB',\n",
       "       '50 MP + 12 MP Dual Rear &amp; 8 MP Front Camera',\n",
       "       '50 MP + 20 MP + 12 MP Triple Rear &amp; 16 MP Front Camera',\n",
       "       '50 MP + 32 MP + 8 MP Triple Rear &amp; 32 MP Front Camera',\n",
       "       '50 MP + 32 MP + 10 MP Triple Rear &amp; 16 MP Front Camera',\n",
       "       '50 MP + 50 MP + 20 MP Triple Rear &amp; 16 MP Front Camera',\n",
       "       '54 MP + 50 MP + 8 MP Triple Rear &amp; 16 MP Front Camera',\n",
       "       '108 MP + 8 MP + 5 MP Triple Rear &amp; 16 MP Front Camera',\n",
       "       'Android v9.0 (Pie)',\n",
       "       '48 MP + 12 MP Dual Rear &amp; 10 MP Front Camera',\n",
       "       '48 MP + 10.8 MP + 10.8 MP Triple Rear &amp; 9.5 MP + 8 MP Dual Front Camera',\n",
       "       '50 MP + 10.8 MP + 10.8 MP Triple Rear &amp; 12 MP + 12 MP Dual Front Camera',\n",
       "       'Memory Card Supported, upto 32 GB',\n",
       "       '64 MP + 13 MP + 8 MP Triple Rear &amp; 32 MP Front Camera',\n",
       "       '50 MP + 13 MP + 5 MP Triple Rear &amp; 12 MP Front Camera',\n",
       "       '64 MP + 13 MP + 0.3 MP Triple Rear &amp; 10 MP Front Camera',\n",
       "       '50 MP + 50 MP Dual Rear &amp; 16 MP Front Camera',\n",
       "       '64 MP + 13 MP Dual Rear &amp; 32 MP Front Camera',\n",
       "       'Android v10.0',\n",
       "       '64 MP + 13 MP + 2 MP Triple Rear &amp; 32 MP Front Camera',\n",
       "       '13 MP + 12 MP Dual Rear &amp; 32 MP Front Camera',\n",
       "       '50 MP + 50 MP Dual Rear &amp; 32 MP Front Camera',\n",
       "       '50 MP + 13 MP Dual Rear &amp; 32 MP Front Camera',\n",
       "       '50 MP + 13 MP + 2 MP Triple Rear &amp; 32 MP Front Camera',\n",
       "       '16 MP Rear &amp; 5 MP Front Camera', 'Android v12.1',\n",
       "       'No FM Radio',\n",
       "       '50 MP + 50 MP + 13 MP Triple Rear &amp; 32 MP + 16 MP Dual Front Camera',\n",
       "       '50 MP + 50 MP + 32 MP Triple Rear &amp; 32 MP + 32 MP Dual Front Camera',\n",
       "       '50 MP Hexa Rear &amp; 32 MP Front Camera', 'Android',\n",
       "       'HarmonyOS v4', 'EMUI v14', 'HarmonyOS v3.0', 'HarmonyOS',\n",
       "       'HarmonyOS v4.0', 'HarmonyOS v5.0', 'HarmonyOS v2.0',\n",
       "       '48 MP + 20 MP + 13 MP Triple Rear &amp; 10.7 MP Front Camera',\n",
       "       'HarmonyOS v4.2', 'HarmonyOS v5',\n",
       "       '50 MP Quad Rear &amp; 10.7 MP Front Camera',\n",
       "       '50 MP + 13 MP Dual Rear &amp; 12 MP Front Camera',\n",
       "       '50 MP + 48 MP + 8 MP Triple Rear &amp; 32 MP Front Camera'],\n",
       "      dtype=object)"
      ]
     },
     "execution_count": 15,
     "metadata": {},
     "output_type": "execute_result"
    }
   ],
   "source": [
    "df['External_Memory'].unique()"
   ]
  },
  {
   "cell_type": "markdown",
   "id": "2007fe0b",
   "metadata": {},
   "source": [
    "#### Android Version"
   ]
  },
  {
   "cell_type": "code",
   "execution_count": 16,
   "id": "765958c1",
   "metadata": {},
   "outputs": [
    {
     "data": {
      "text/plain": [
       "array(['13', '10', '12', '11', '15', '10.0', '9.0 (Pie)', '14', nan,\n",
       "       '7.1.1 (Nougat)', '8.0 (Oreo)', '8.1 (Oreo)', '5.1 (Lollipop)',\n",
       "       '6.0 (Marshmallow)', '9 (Pie)', '3', '2', '4.0', '3.0 (Honeycomb)',\n",
       "       '2.0', '3.0', '3.1', '5.0', '4.1'], dtype=object)"
      ]
     },
     "execution_count": 16,
     "metadata": {},
     "output_type": "execute_result"
    }
   ],
   "source": [
    "df['Android_version'].unique()"
   ]
  },
  {
   "cell_type": "markdown",
   "id": "2408adde",
   "metadata": {},
   "source": [
    "#### Price"
   ]
  },
  {
   "cell_type": "code",
   "execution_count": 17,
   "id": "cd134e90",
   "metadata": {},
   "outputs": [
    {
     "data": {
      "text/plain": [
       "array(['9,999', '9,990', '11,999', '11,990', '11,599', '12,298', '14,999',\n",
       "       '14,990', '14,949', '19,999', '19,990', '19,799', '19,499',\n",
       "       '18,999', '18,990', '20,999', '29,999', '28,990', '30,500',\n",
       "       '30,999', '39,999', '39,990', '38,900', '37,999', '41,289',\n",
       "       '41,790', '42,990', '42,999', '49,999', '49,990', '49,000',\n",
       "       '47,990', '44,999', '44,990', '51,999', '54,990', '54,999',\n",
       "       '59,999', '57,990', '64,999', '65,690', '69,990', '69,999',\n",
       "       '70,000', '1,99,990', '1,84,999', '1,79,990', '1,77,999',\n",
       "       '1,64,999', '1,59,999', '1,54,999', '1,39,999', '1,30,376',\n",
       "       '1,29,999', '6,990', '6,999', '7,499', '7,999', '8,033', '8,199',\n",
       "       '8,490', '9,499', '10,199', '10,499', '11,899', '11,580', '11,490',\n",
       "       '11,390', '10,999', '12,350', '12,490', '15,050', '29,990',\n",
       "       '29,799', '30,739', '31,398', '31,990', '38,990', '38,799',\n",
       "       '37,990', '40,990', '49,940', '48,990', '46,990', '45,990',\n",
       "       '45,210', '50,999', '56,990', '58,990', '62,990', '63,999',\n",
       "       '64,990', '65,490', '71,990', '74,899', '76,990', '79,999',\n",
       "       '80,990', '1,39,990', '1,18,990', '1,15,990', '1,13,990',\n",
       "       '1,10,990', '1,09,990', '1,07,990', '1,06,990', '99,990', '94,999',\n",
       "       '89,999', '89,990', '82,990', '6,950', '7,199', '7,450', '7,480',\n",
       "       '7,790', '7,815', '7,850', '7,919', '7,920', '7,945', '7,950',\n",
       "       '7,980', '9,893', '9,820', '10,299', '10,390', '11,910', '11,749',\n",
       "       '11,499', '12,251', '14,844', '14,499', '13,999', '15,299',\n",
       "       '15,329', '15,749', '15,990', '19,783', '20,499', '20,500',\n",
       "       '20,599', '30,049', '29,996', '28,979', '28,339', '31,089',\n",
       "       '38,999', '36,999', '36,990', '35,999', '34,999', '34,990',\n",
       "       '33,999', '33,990', '15,499', '20,699', '20,990', '28,900',\n",
       "       '30,200', '30,900', '35,990', '45,999', '47,999', '49,499',\n",
       "       '50,990', '78,990', '79,990', '84,990', '84,999', '94,990',\n",
       "       '1,34,999', '1,29,990', '1,19,900', '1,14,990', '10,990', '12,899',\n",
       "       '12,990', '13,499', '13,990', '15,999', '17,990', '17,999',\n",
       "       '21,838', '22,486', '22,990', '22,999', '28,999', '26,990',\n",
       "       '25,999', '25,990', '30,990', '32,990', '43,990', '52,652',\n",
       "       '52,999', '57,999', '72,990', '76,429', '7,299', '7,580', '7,890',\n",
       "       '7,972', '7,990', '8,499', '8,689', '8,990', '8,999', '9,799',\n",
       "       '9,690', '9,249', '10,330', '10,880', '11,539', '12,194', '12,999',\n",
       "       '13,267', '13,290', '13,490', '14,899', '14,950', '15,590',\n",
       "       '16,999', '17,945', '19,490', '21,990', '21,999', '24,499',\n",
       "       '24,990', '25,890', '26,499', '27,990', '27,999', '27,199',\n",
       "       '31,999', '55,990', '56,999', '66,499', '67,990', '77,990',\n",
       "       '1,02,999', '1,87,990', '1,24,999', '1,04,999', '1,03,999',\n",
       "       '23,999', '40,299', '40,999', '32,999', '43,999', '46,999',\n",
       "       '59,990', '62,999', '74,990', '1,01,999', '1,08,999', '1,25,990',\n",
       "       '1,46,990', '1,59,990', '7,190', '7,309', '7,394', '63,990',\n",
       "       '70,990', '71,999', '72,999', '74,999', '1,09,900', '82,999',\n",
       "       '81,990', '7,124', '7,290', '9,099', '7,599', '9,490', '7,899',\n",
       "       '8,899', '8,690', '11,110', '11,450', '11,000', '10,631', '10,900',\n",
       "       '10,490', '12,332', '13,429', '13,599', '14,199', '15,982',\n",
       "       '16,990', '17,900', '17,499', '24,999', '22,863', '27,899',\n",
       "       '26,690', '25,171', '21,499', '21,390', '26,899', '22,492',\n",
       "       '36,880', '33,779', '32,883', '33,499', '35,499', '41,740',\n",
       "       '1,24,990', '89,748', '99,999', '81,999', '1,05,999', '1,03,000',\n",
       "       '8,980', '8,489', '8,660', '12,749', '13,950', '16,499', '16,299',\n",
       "       '17,995', '15,190', '23,499', '25,299', '21,490', '20,198',\n",
       "       '30,799', '36,199', '31,899', '45,215', '68,899', '63,490',\n",
       "       '8,349', '7,820', '8,890', '9,478', '9,764', '9,489', '8,744',\n",
       "       '9,800', '11,049', '10,190', '10,466', '10,750', '10,899',\n",
       "       '12,877', '13,374', '12,499', '12,900', '13,489', '15,323',\n",
       "       '18,708', '16,485', '18,398', '18,577', '16,400', '16,949',\n",
       "       '17,949', '16,998', '17,789', '16,500', '21,828', '27,875',\n",
       "       '21,477', '23,880', '23,900', '20,615', '23,649', '29,004',\n",
       "       '22,799', '26,999', '24,150', '33,900', '52,990', '1,04,990',\n",
       "       '7,998', '7,090', '14,989', '18,928', '23,990', '41,990', '88,990',\n",
       "       '1,49,999', '20,000', '16,899', '18,879', '16,134', '24,454',\n",
       "       '20,065', '22,592', '26,674', '22,499', '35,609', '39,888',\n",
       "       '42,437', '43,889', '40,108', '47,998', '43,299', '58,699',\n",
       "       '55,999', '63,359', '7,699', '9,190', '7,900', '7,689', '9,998',\n",
       "       '11,159', '11,350', '10,269', '11,489', '11,425', '10,949',\n",
       "       '12,120', '12,239', '12,428', '15,898', '18,377', '20,075',\n",
       "       '17,975', '16,890', '18,390', '18,499', '22,297', '28,517',\n",
       "       '24,329', '20,048', '26,479', '24,890', '24,449', '36,898',\n",
       "       '44,949', '69,899', '53,990', '83,999', '93,990', '2,14,990',\n",
       "       '1,34,990', '1,21,999', '1,91,999', '92,990', '25,499', '7,319',\n",
       "       '10,749', '10,489', '8,799', '8,346', '7,949', '1,19,990'],\n",
       "      dtype=object)"
      ]
     },
     "execution_count": 17,
     "metadata": {},
     "output_type": "execute_result"
    }
   ],
   "source": [
    "df['Price'].unique()"
   ]
  },
  {
   "cell_type": "markdown",
   "id": "f3786bac",
   "metadata": {},
   "source": [
    "#### Company"
   ]
  },
  {
   "cell_type": "code",
   "execution_count": 18,
   "id": "21f1d2b8",
   "metadata": {},
   "outputs": [
    {
     "data": {
      "text/plain": [
       "array(['Samsung', 'Vivo', 'Realme', 'OPPO', 'Oppo', 'iQOO', 'IQOO',\n",
       "       'Poco', 'POCO', 'Honor', 'Nothing', 'Google', 'itel', 'Itel',\n",
       "       'Asus', 'LG', 'Lenovo', 'Gionee', 'Motorola', 'OnePlus', 'Xiaomi',\n",
       "       'Tecno', 'Huawei', 'Lava', 'Coolpad', 'TCL'], dtype=object)"
      ]
     },
     "execution_count": 18,
     "metadata": {},
     "output_type": "execute_result"
    }
   ],
   "source": [
    "df['company'].unique()"
   ]
  },
  {
   "cell_type": "markdown",
   "id": "edd1ab8c",
   "metadata": {},
   "source": [
    "#### Inbuilt Memory"
   ]
  },
  {
   "cell_type": "code",
   "execution_count": 19,
   "id": "ea8eafab",
   "metadata": {},
   "outputs": [
    {
     "data": {
      "text/plain": [
       "array([' 128 GB inbuilt', ' 32 GB inbuilt', ' 64 GB inbuilt',\n",
       "       ' 256 GB inbuilt', ' 1 TB inbuilt', ' 512 GB inbuilt',\n",
       "       ' 16 GB inbuilt', ' Octa Core', ' 258 GB inbuilt', ' 8 GB inbuilt',\n",
       "       nan], dtype=object)"
      ]
     },
     "execution_count": 19,
     "metadata": {},
     "output_type": "execute_result"
    }
   ],
   "source": [
    "df['Inbuilt_memory'].unique()"
   ]
  },
  {
   "cell_type": "markdown",
   "id": "70372619",
   "metadata": {},
   "source": [
    "#### Fast Charging"
   ]
  },
  {
   "cell_type": "code",
   "execution_count": 20,
   "id": "bef3773c",
   "metadata": {},
   "outputs": [
    {
     "data": {
      "text/plain": [
       "array([' 25W Fast Charging', ' 15W Fast Charging', nan,\n",
       "       ' 18W Fast Charging', ' 30W Fast Charging', ' Fast Charging',\n",
       "       ' 45W Fast Charging', ' 33W Fast Charging', ' 67W Fast Charging',\n",
       "       ' 80W Fast Charging', ' 10W Fast Charging', ' 44W Fast Charging',\n",
       "       ' 66W Fast Charging', ' 100W Fast Charging', ' 120W Fast Charging',\n",
       "       ' 150W Fast Charging', ' 55W Fast Charging', ' 200W Fast Charging',\n",
       "       ' 65W Fast Charging', ' 60W Fast Charging', ' 20W Fast Charging',\n",
       "       ' 50W Fast Charging', ' 57W Fast Charging', ' 240W Fast Charging',\n",
       "       ' 125W Fast Charging', ' 68W Fast Charging', ' 250W Fast Charging',\n",
       "       ' 27W Fast Charging', ' 35W Fast Charging', ' 22.5W Fast Charging',\n",
       "       ' 40W Fast Charging', ' 90W Fast Charging', ' 08W Fast Charging',\n",
       "       ' 68.2W Fast Charging', ' 135W Fast Charging',\n",
       "       ' 70W Fast Charging', ' Water Drop Notch', ' 88W Fast Charging',\n",
       "       ' 7.5W Fast Charging'], dtype=object)"
      ]
     },
     "execution_count": 20,
     "metadata": {},
     "output_type": "execute_result"
    }
   ],
   "source": [
    "df['fast_charging'].unique()"
   ]
  },
  {
   "cell_type": "markdown",
   "id": "907b53a7",
   "metadata": {},
   "source": [
    "#### Screen Resolution"
   ]
  },
  {
   "cell_type": "code",
   "execution_count": 21,
   "id": "914dde3b",
   "metadata": {},
   "outputs": [
    {
     "data": {
      "text/plain": [
       "array([' 2408 x 1080 px Display with Water Drop Notch',\n",
       "       ' 720 x 1560 px Display with Punch Hole',\n",
       "       ' 1080 x 2408 px Display with Water Drop Notch', ' 720 x 1600 px',\n",
       "       ' 720 x 1600 px Display with Water Drop Notch',\n",
       "       ' 1080 x 2340 px Display with Water Drop Notch',\n",
       "       ' 720 x 1560 px Display with Water Drop Notch', ' 1080 x 2408 px',\n",
       "       ' 1080 x 2400 px Display with Water Drop Notch', ' 1080 x 2340 px',\n",
       "       ' 1080 x 2400 px', ' 720 x 1520 px Display with Water Drop Notch',\n",
       "       ' 1080 x 2400 px Display with Punch Hole', ' 1440 x 3200 px',\n",
       "       ' 1080 x 2340 px Display with Punch Hole', ' 1080 x 2640 px',\n",
       "       ' 1080 x 2412 px', ' 1440 x 3040 px Display with Punch Hole',\n",
       "       ' 1080 x 2400 px Display',\n",
       "       ' 1080 x 2460 px Display with Punch Hole',\n",
       "       ' 1440 x 3040 px Display', ' 1440 x 2960 px Display',\n",
       "       ' 1812 x 2176 px', ' 1440 x 3120 px', ' 1440 x 3080 px',\n",
       "       ' 720 x 1612 px', ' 480 x 854 px Display',\n",
       "       ' 720 x 1544 px Display with Water Drop Notch',\n",
       "       ' 720 x 1612 px Display with Water Drop Notch', ' 1600 x 720 px',\n",
       "       ' 1080 x 2388 px Display with Water Drop Notch',\n",
       "       ' 720 x 1280 px Display', ' 1612 x 720 px', ' 1080 x 2376 px',\n",
       "       ' 1800 x 3200 px', ' 1080 x 2400 px Display with Small Notch',\n",
       "       ' 1080 x 2388 px', ' 1260 x 2800 px', ' 1260 x 2712 px',\n",
       "       ' 1080 x 2256 px Display', ' 1080 x 2520 px', ' 2200 x 2480 px',\n",
       "       ' 1916 x 2160 px', ' 1768 x 2208 px',\n",
       "       ' 1600 x 720 px Display with Water Drop Notch', ' 720 x 1604 px',\n",
       "       ' 1080 x 2460 px', ' 720 x 1600 px Display with Punch Hole', nan,\n",
       "       ' 1264 x 2780 px', ' 1240 x 2772 px',\n",
       "       ' 1440 x 3200 px Display with Punch Hole', ' 2400 x 1080 px',\n",
       "       ' 1864 x 3820 px', ' 1440 x 3216 px', ' 1080 x 2732 px',\n",
       "       ' 1440 x 3168 px', ' 1200 x 2400 px', ' 1792 x 1920 px',\n",
       "       ' 1800 x 3400 px', ' 1440 x 3200 px Display', ' 2268 x 2440 px',\n",
       "       ' 1080 x 2388 px Display with Punch Hole', ' 1800 x 3440 px',\n",
       "       ' 720 x 1650 px', ' 720 x 1650 px Display with Water Drop Notch',\n",
       "       ' 720 x 1680 px Display with Water Drop Notch', ' 720 x 1680 px',\n",
       "       ' 1220 x 2712 px', ' 1600 x 2560 px', ' 1080 x 2404 px',\n",
       "       ' 1220 x 3200 px', ' 1200 x 2400 px Display with Water Drop Notch',\n",
       "       ' 1220 x 2652 px', ' 1080 x 2412 px Display with Small Notch',\n",
       "       ' 1200 x 2664 px', ' 1224 x 2700 px', ' 1200 x 2652 px',\n",
       "       ' 1080 x 2400 px Display with Dual Punch Hole', ' 1264 x 2800 px',\n",
       "       ' 1280 x 2800 px', ' 2016 x 2348 px', ' 1312 x 2848 px',\n",
       "       ' 2156 x 2344 px', ' 1224 x 2688 px', ' 1344 x 2772 px',\n",
       "       ' 1984 x 2272 px', ' 2200 x 2480 px Display', ' 1084 x 2412 px',\n",
       "       ' 1084 x 2728 px', ' 1080 x 2220 px Display',\n",
       "       ' 1080 x 2280 px Display', ' 1344 x 2992 px', ' 1940 x 3120 px',\n",
       "       ' 1840 x 2208 px', ' 1600 x 720 px Display with Punch Hole',\n",
       "       ' 720 x 1640 px', ' 1080 x 2448 px', ' 2340 x 1080 px',\n",
       "       ' 1080 x 2460 px Display with Water Drop Notch',\n",
       "       ' 1080 x 1920 px Display', ' 720 x 1440 px Display',\n",
       "       ' 720 x 1600 px Display with Large Notch',\n",
       "       ' 1080 x 2400 px Display with Large Notch',\n",
       "       ' 540 x 960 px Display', ' 1440 x 3088 px',\n",
       "       ' 1080 x 2408 px Display with Punch Hole',\n",
       "       ' Full HD+ Display with Punch Hole',\n",
       "       ' 1080 x 2246 px Display with Large Notch', ' 2460 x 1080 px',\n",
       "       ' 1080 x 1920 px', ' 720 x 1612 px Display with Punch Hole',\n",
       "       ' 1200 x 2780 px', ' 876 x 2142 px Display with Large Notch',\n",
       "       ' 1440 x 2780 px', ' 1440 x 3412 px', ' 1440 x 3120 px Display',\n",
       "       ' 576 x 1440 px Display', ' 720 x 1650 px Display with Punch Hole',\n",
       "       ' 1080 x 2280 px Display with Water Drop Notch', ' 1080 x 2480 px',\n",
       "       ' 2000 x 2296 px', ' 1596 x 2296 px Display', ' 1080 x 2160 px',\n",
       "       ' 1224 x 2776 px', ' 1220 x 2700 px', ' 1260 x 2844 px',\n",
       "       ' 1212 x 2616 px', ' 1256 x 2760 px',\n",
       "       ' 1176 x 2400 px Display with Large Notch', ' 1860 x 3220 px',\n",
       "       ' 1216 x 2688 px', ' 1260 x 2720 px', ' 1344 x 2772 px Display',\n",
       "       ' 1200 x 2640 px', ' 1136 x 2690 px', ' 1188 x 2790 px',\n",
       "       ' 1080 x 2388 px Display',\n",
       "       ' 1080 x 2412 px Display with Punch Hole',\n",
       "       ' 540 x 1092 px Display', ' 480 x 960 px Display',\n",
       "       ' 720 x 1640 px Display with Water Drop Notch'], dtype=object)"
      ]
     },
     "execution_count": 21,
     "metadata": {},
     "output_type": "execute_result"
    }
   ],
   "source": [
    "df['Screen_resolution'].unique()"
   ]
  },
  {
   "cell_type": "markdown",
   "id": "556ba453",
   "metadata": {},
   "source": [
    "#### Processor"
   ]
  },
  {
   "cell_type": "code",
   "execution_count": 22,
   "id": "7f585d46",
   "metadata": {},
   "outputs": [
    {
     "data": {
      "text/plain": [
       "array([' Octa Core Processor', ' 1.8 GHz Processor', ' 2 GHz Processor',\n",
       "       ' Octa Core', nan, ' Quad Core', ' Nine-Cores', ' Nine Core',\n",
       "       ' Nine Cores', ' Deca Core Processor', ' 1.3 GHz Processor',\n",
       "       ' 1.6 GHz Processor', ' 2.3 GHz Processor', ' Deca Core',\n",
       "       ' 128 GB inbuilt'], dtype=object)"
      ]
     },
     "execution_count": 22,
     "metadata": {},
     "output_type": "execute_result"
    }
   ],
   "source": [
    "df['Processor'].unique()"
   ]
  },
  {
   "cell_type": "markdown",
   "id": "e13e3d9a",
   "metadata": {},
   "source": [
    "#### Processor Name"
   ]
  },
  {
   "cell_type": "code",
   "execution_count": 23,
   "id": "63fa2940",
   "metadata": {},
   "outputs": [
    {
     "data": {
      "text/plain": [
       "array(['Exynos 1330', 'Octa Core', 'Helio G88', 'Helio P35',\n",
       "       'Dimensity 700', 'Exynos 9611', 'Exynos  850', 'Exynos 1280',\n",
       "       'Snapdragon 695', 'Exynos 850', 'Helio P65', 'Octa Core Processor',\n",
       "       'Snapdragon 680', 'Helio G80', 'Samsung Exynos 7884',\n",
       "       'Dimensity 6100 Plus', 'Dimensity 700 5G', 'Snapdragon  680',\n",
       "       'Snapdragon 888', 'Exynos 1380', 'Snapdragon 865', 'Exynos 980',\n",
       "       'Snapdragon 730', 'Snapdragon 675', 'Snapdragon 7 Gen1',\n",
       "       'Snapdragon 750G', 'Snapdragon 855+', 'Snapdragon 870',\n",
       "       'Snapdragon 710', 'Exynos 1480', 'Snapdragon  720G ',\n",
       "       'Snapdragon 778g', 'Exynos 2200', 'Snapdragon 7+ Gen2',\n",
       "       'Snapdragon 8 Gen 2', 'Exynos 9825', 'Snapdragon 7s Gen2',\n",
       "       'Exynos 2100', 'Dimensity 1300', 'Snapdragon 778G+',\n",
       "       'Snapdragon 778G', 'Exynos 2300', 'Snapdragon 8+ Gen1',\n",
       "       'Snapdragon 8 Gen3', 'Snapdragon  8+ Gen1', 'Snapdragon  8 Gen1',\n",
       "       'Exynos 990', 'Snapdragon 855', 'Exynos 8895', 'Exynos  2100',\n",
       "       'Exynos 9810', 'Snapdragon 8 Gen2', 'Helio G85', 'Helio P22',\n",
       "       'Helio MT6580', 'Snapdragon  439 ', 'Helio', 'Snapdragon  675',\n",
       "       'Snapdragon 450', 'Dimensity 6020', 'Helio  P22', 'Helio G70',\n",
       "       'Snapdragon 680 ', 'Snapdragon 460', 'Snapdragon 430',\n",
       "       'Helio  P70  ', 'Snapdragon MSM8937', 'Snapdragon 6 Gen1',\n",
       "       'Snapdragon 7 Gen2', 'Dimensity 7200', 'Snapdragon 4 Gen2',\n",
       "       'Snapdragon 685', 'Helio G99', 'Dimensity 1200', 'Dimensity 800U ',\n",
       "       'Snapdragon', 'Snapdragon 765G ', 'Dimensity 8200',\n",
       "       'Snapdragon 7 Gen3', 'Snapdragon 782G', 'Dimensity 9300',\n",
       "       'Dimensity 9200', 'Dimensity 1100', 'Dimensity  8200',\n",
       "       'Dimensity 9000 Plus', 'Dimensity 8300', 'Dimensity 9300 Plus',\n",
       "       'Dimensity  9200 Plus', 'Snapdragon  888+', 'Dimensity  9000',\n",
       "       'Dimensity 9400', 'Snapdragon 888 ', 'Snapdragon 8 Gen1',\n",
       "       'Unisoc SC9863A', 'Helio G35', 'Tiger T612', 'Unisoc T610',\n",
       "       'SC9863A', 'Unisoc  SC9863A', 'Snapdragon  665', 'Unisoc T612',\n",
       "       'Tiger  T616', 'Tiger  T610', 'Helio G96', 'Helio G36',\n",
       "       'Snapdragon 662', 'Helio  G35', 'Dimensity 6300', 'Helio G85 ',\n",
       "       'Helio  G95', 'Helio G95', 'Dimensity 810 5G', 'Dimensity  810 5G',\n",
       "       'No Wifi', 'Dimensity 7025', 'Dimensity  700 5G', 'Snapdragon 712',\n",
       "       'Dimensity 7050', 'Snapdragon 720G ', 'Snapdragon  7 Gen1',\n",
       "       'Snapdragon 7+ Gen3', 'Snapdragon  695', 'Dimensity  8100',\n",
       "       'Snapdragon  778G', 'Dimensity 1000+', 'Snapdragon 7s Gen3',\n",
       "       'Dimensity 6080', 'Snapdragon  888 ', 'Snapdragon 8s Gen3',\n",
       "       'Snapdragon 8 Gen4', 'Snapdragon 8 Gen1 Plus', 'Dimensity 7020',\n",
       "       'Snapdragon  730G', 'Snapdragon 480', 'Snapdragon 662 ',\n",
       "       'Dimensity 800U', 'Snapdragon  765G ', 'Dimensity 900',\n",
       "       'Dimensity  1200 Max', 'Dimensity 8100 Max', 'Dimensity 8100-Max',\n",
       "       'Dimensity 9200 Plus', 'Snapdragon 765G', 'Snapdragon  865 ',\n",
       "       'Dimensity 9000', 'Snapdragon  4 Gen 1', 'Snapdragon  695 ',\n",
       "       'Snapdragon 480+', 'Snapdragon 6 Gen 1', 'Snapdragon  778G Plus',\n",
       "       'Snapdragon  870', 'Helio  G85', 'Helio A22', 'Helio G25',\n",
       "       'Helio G37', 'Helio G91', 'Snapdragon 720G', 'Snapdragon 665',\n",
       "       'Snapdragon  732G', 'Snapdragon 695 ', 'Dimensity 920',\n",
       "       'Snapdragon 7s Gen 2', 'Dimensity 8300 Ultra', 'Dimensity 8100',\n",
       "       'Snapdragon  480+', 'Dimensity 7030', 'Dimensity  1100',\n",
       "       'Snapdragon 7 Gen 1 Accelerated Edition', 'Dimensity 8000',\n",
       "       'Exynos 1080', 'Snapdragon 8 Gen 1', 'Dimensity 7200 Pro',\n",
       "       'Snapdragon 778G Plus', 'Qualcomm Snapdragon 670', 'Tensor G2',\n",
       "       'Google  Tensor', 'Google Tensor G2', 'Tensor G3',\n",
       "       'Google Tensor 4', 'Google  Tensor G2', 'Google Tensor G4',\n",
       "       'Google Tensor 2', 'Quad Core', 'Unisoc T606', 'Unisoc T603',\n",
       "       ' Unisoc T606', 'Snapdragon  8 Gen1 Plus', 'Snapdragon 865+',\n",
       "       'Snapdragon  765G', 'Snapdragon  865', 'Helio P25',\n",
       "       'Qualcomm Snapdragon 450', 'Helio P60', 'Tiger T610', 'Tiger T310',\n",
       "       'Unisoc  SC9836A', 'Snapdragon  439', 'Unisoc  T606',\n",
       "       'Helio MT6737T', 'Snapdragon  450 ', 'Exynos 1280 ', 'Exynos',\n",
       "       'Snapdragon  750G', 'Exynos  1280', 'Dimensity 1080',\n",
       "       'Exynos 2400', 'Snapdragon  480 ', 'Helio P35 ',\n",
       "       'Snapdragon 4 Gen1', 'Dimensity  900', 'Tiger T616', 'Tiger T606',\n",
       "       'Snapdragon 636', 'Helio  G37', 'Helio  G99', 'Snapdragon SM4375',\n",
       "       'Dimensity 8020', 'Snapdragon  7+ Gen2', 'Snapdragon  778G ',\n",
       "       'Snapdragon 888+ ', 'Snapdragon  750G ', 'Snapdragon 888+',\n",
       "       ' Dimensity 7030', 'Snapdragon  6 Gen 1', 'Dimensity 1050',\n",
       "       'Snapdragon 8+ Gen2', 'Dimensity 930', 'Snapdragon (4 nm)',\n",
       "       'Snapdragon 460 ', 'Snapdragon  782G', 'Snapdragon 695 5G',\n",
       "       'Snapdragon 690', 'Dimensity  1300', 'Snapdragon  855+',\n",
       "       'Dimensity  1200 AI', 'Snapdragon  8 Gen4', 'Snapdragon  8 Gen2',\n",
       "       'Helio  G25', 'Unisoc SC9832E', 'Snapdragon 4 Gen 1',\n",
       "       'Snapdragon  712', 'Dimensity 700 ', 'Snapdragon  662 ',\n",
       "       'Helio  G96', 'Snapdragon 732G', 'Snapdragon 732G ',\n",
       "       'Snapdragon 678', 'Dimensity 8200 Ultra ', 'Dimensity 7200 Ultra',\n",
       "       'Dimensity  920 5G', 'Helio G99 Ultra', 'Dimensity (4 nm)',\n",
       "       'Dimensity 8050', 'Kirin 710A', 'Kirin  710A', 'Snapdragon (6 nm)',\n",
       "       'Snapdragon 778G 4G', '4 GB RAM', 'Sanpdragon 680', 'Kirin  710F',\n",
       "       'Kirin 830', 'Kirin 9000S', 'Kirin', 'Snapdragon 8+ Gen 1',\n",
       "       'Kirin 9010', 'Snapdragon 8+ Gen 1 ', 'Kirin  990', 'Kirin 9000E',\n",
       "       'Kirin  9000', 'Kirin 990', ' Helio G36', 'Snapdragon  888',\n",
       "       'Tiger   T616', 'Tiger  T616 ', 'Helio  A22', 'Helio A25'],\n",
       "      dtype=object)"
      ]
     },
     "execution_count": 23,
     "metadata": {},
     "output_type": "execute_result"
    }
   ],
   "source": [
    "df['Processor_name'].unique()"
   ]
  },
  {
   "cell_type": "markdown",
   "id": "9f69e9d3",
   "metadata": {},
   "source": [
    "# EDA and Data Cleaning"
   ]
  },
  {
   "cell_type": "code",
   "execution_count": 24,
   "id": "5d02d442",
   "metadata": {},
   "outputs": [],
   "source": [
    "def strip(dataframe, col):\n",
    "    dataframe[col] = dataframe[col].str.strip()"
   ]
  },
  {
   "cell_type": "code",
   "execution_count": 25,
   "id": "dfde8287",
   "metadata": {},
   "outputs": [],
   "source": [
    "strip(df,'Battery')"
   ]
  },
  {
   "cell_type": "code",
   "execution_count": 26,
   "id": "c857b094",
   "metadata": {},
   "outputs": [],
   "source": [
    "strip(df,'No_of_sim')"
   ]
  },
  {
   "cell_type": "code",
   "execution_count": 27,
   "id": "2ec7ac03",
   "metadata": {},
   "outputs": [],
   "source": [
    "strip(df,'Inbuilt_memory')"
   ]
  },
  {
   "cell_type": "code",
   "execution_count": 28,
   "id": "7b4f4f8b",
   "metadata": {},
   "outputs": [],
   "source": [
    "strip(df,'fast_charging')"
   ]
  },
  {
   "cell_type": "code",
   "execution_count": 29,
   "id": "8f5af16d",
   "metadata": {},
   "outputs": [],
   "source": [
    "strip(df,'Screen_resolution')"
   ]
  },
  {
   "cell_type": "code",
   "execution_count": 30,
   "id": "5da176e6",
   "metadata": {},
   "outputs": [],
   "source": [
    "strip(df,'Processor')"
   ]
  },
  {
   "cell_type": "code",
   "execution_count": 31,
   "id": "2795cea9",
   "metadata": {},
   "outputs": [],
   "source": [
    "strip(df,'Processor_name')"
   ]
  },
  {
   "cell_type": "code",
   "execution_count": 32,
   "id": "8bbd060f",
   "metadata": {},
   "outputs": [],
   "source": [
    "strip(df,'Display')"
   ]
  },
  {
   "cell_type": "markdown",
   "id": "7b960d64",
   "metadata": {},
   "source": [
    "## RAM column"
   ]
  },
  {
   "cell_type": "markdown",
   "id": "b5e88c93",
   "metadata": {},
   "source": [
    "We remove the values 'Helio G90T','6000 mAh Battery with 22.5W Fast Charging'.\n",
    "also wherever we have null values for inbuilt memory we fill those using the corresponding row values of RAM."
   ]
  },
  {
   "cell_type": "code",
   "execution_count": 33,
   "id": "14bec952",
   "metadata": {},
   "outputs": [],
   "source": [
    "df = df[(df['Ram'] !='Helio G90T')]"
   ]
  },
  {
   "cell_type": "code",
   "execution_count": 34,
   "id": "d36cc8a8",
   "metadata": {},
   "outputs": [],
   "source": [
    "df = df[(df['Ram'] !='6000 mAh Battery with 22.5W Fast Charging')]"
   ]
  },
  {
   "cell_type": "code",
   "execution_count": 35,
   "id": "2e35cb01",
   "metadata": {},
   "outputs": [],
   "source": [
    "count = 0\n",
    "for index,row in df.iterrows():\n",
    "    if pd.isnull(row['Inbuilt_memory']):\n",
    "        df.at[index, 'Inbuilt_memory'] = row['Ram']\n",
    "        df.at[index, 'Ram'] ='0 GB RAM'"
   ]
  },
  {
   "cell_type": "code",
   "execution_count": 39,
   "id": "15585cbc",
   "metadata": {},
   "outputs": [
    {
     "data": {
      "text/plain": [
       "array(['4 GB RAM', '2 GB RAM', '6 GB RAM', '8 GB RAM', '12 GB RAM',\n",
       "       '1 GB RAM', '3 GB RAM', '16 GB RAM', '24 GB RAM', '18 GB RAM',\n",
       "       '1.5 GB RAM', '0 GB RAM'], dtype=object)"
      ]
     },
     "execution_count": 39,
     "metadata": {},
     "output_type": "execute_result"
    }
   ],
   "source": [
    "df['Ram'].unique()"
   ]
  },
  {
   "cell_type": "markdown",
   "id": "ab17b45e",
   "metadata": {},
   "source": [
    "# Fold and Dual Display"
   ]
  },
  {
   "cell_type": "markdown",
   "id": "7f1ca4e0",
   "metadata": {},
   "source": [
    "We create new column called fold and dual display. it contains information whether a phone has foldable or dual or both display."
   ]
  },
  {
   "cell_type": "code",
   "execution_count": 50,
   "id": "81db72b5",
   "metadata": {},
   "outputs": [],
   "source": [
    "df['Fold_and_dual_dis'] = ''"
   ]
  },
  {
   "cell_type": "code",
   "execution_count": 51,
   "id": "c9344591",
   "metadata": {},
   "outputs": [],
   "source": [
    "l = ['Foldable Display, Dual Display','Dual Display','Foldable Display']\n",
    "for index,row in df.iterrows():\n",
    "    if row['Camera'] in l:\n",
    "        df.at[index,'Fold_and_dual_dis'] = row['Camera']\n",
    "        df.at[index,'Camera'] = row['External_Memory']\n",
    "        df.at[index, 'External_Memory'] = ''"
   ]
  },
  {
   "cell_type": "code",
   "execution_count": 52,
   "id": "68d4e9cd",
   "metadata": {},
   "outputs": [
    {
     "data": {
      "text/plain": [
       "array(['', 'Foldable Display, Dual Display', 'Dual Display',\n",
       "       'Foldable Display'], dtype=object)"
      ]
     },
     "execution_count": 52,
     "metadata": {},
     "output_type": "execute_result"
    }
   ],
   "source": [
    "df['Fold_and_dual_dis'].unique()"
   ]
  },
  {
   "cell_type": "code",
   "execution_count": 53,
   "id": "cccaa9f2",
   "metadata": {},
   "outputs": [],
   "source": [
    "df = df[df['Unnamed: 0'] != '']"
   ]
  },
  {
   "cell_type": "markdown",
   "id": "abd0c56f",
   "metadata": {},
   "source": [
    "# External Memory"
   ]
  },
  {
   "cell_type": "markdown",
   "id": "59c3741e",
   "metadata": {},
   "source": [
    "Now wherever and cell in external memory startswith android then we fill the corresponding cell in android version with it."
   ]
  },
  {
   "cell_type": "code",
   "execution_count": 54,
   "id": "7d56f4ee",
   "metadata": {},
   "outputs": [],
   "source": [
    "count = 0\n",
    "for index, row in df.iterrows():\n",
    "    if row['External_Memory'].startswith('Android'):\n",
    "        df.at[index, 'Android_version'] = row['External_Memory']"
   ]
  },
  {
   "cell_type": "markdown",
   "id": "c769fc35",
   "metadata": {},
   "source": [
    "# Android Version"
   ]
  },
  {
   "cell_type": "code",
   "execution_count": 55,
   "id": "dfe6fa72",
   "metadata": {},
   "outputs": [
    {
     "data": {
      "text/plain": [
       "72"
      ]
     },
     "execution_count": 55,
     "metadata": {},
     "output_type": "execute_result"
    }
   ],
   "source": [
    "df['Android_version'].isna().sum()       "
   ]
  },
  {
   "cell_type": "code",
   "execution_count": 56,
   "id": "5eeca587",
   "metadata": {},
   "outputs": [],
   "source": [
    "count = 0\n",
    "for index, row in df.iterrows():\n",
    "    if row['External_Memory'].startswith('Harmony'):\n",
    "        df.at[index, 'Android_version'] = row['External_Memory']"
   ]
  },
  {
   "cell_type": "code",
   "execution_count": 57,
   "id": "8e2d34e7",
   "metadata": {},
   "outputs": [],
   "source": [
    "count = 0\n",
    "for index, row in df.iterrows():\n",
    "    if row['External_Memory'].startswith('EMUI'):\n",
    "        df.at[index, 'Android_version'] = row['External_Memory']"
   ]
  },
  {
   "cell_type": "code",
   "execution_count": 58,
   "id": "551c80b6",
   "metadata": {},
   "outputs": [],
   "source": [
    "android_dict = {'Android v13':'13','10.0':'10','Android v10':10,'9.0 (Pie)':9,'Android v12':12,'7.1.1 (Nougat)':'7','8.0 (Oreo)':8,\n",
    "               '8.1 (Oreo)':'8','5.1 (Lollipop)':'5','6.0 (Marshmallow)':'6','Android v11':'11','Android v15':'15',\n",
    "               'Android v14':'14','Android v9.0 (Pie)':'9',\"9 (Pie)\":'9',\"Android v12.1\":'12','4.0':'4','3.0':'3','3.1':'3','5.0':'5',\n",
    "               '2.0':'2','Android v10.0':'10',\"3.0 (Honeycomb)\":'3','HarmonyOS v4':'4','EMUI v14':'14','HarmonyOS v3.0':3,\n",
    "               'HarmonyOS':'1','HarmonyOS v4.0':'4','HarmonyOS v5.0':'5','HarmonyOS v2.0':'2','HarmonyOS v4.2':'4','HarmonyOS v5':'5',\n",
    "               '4.1':4,8:'8',9:'9',3:'3',4:'4',10:'10',12:'12',4:'4'}"
   ]
  },
  {
   "cell_type": "code",
   "execution_count": 59,
   "id": "5c892997",
   "metadata": {},
   "outputs": [],
   "source": [
    "df['Android_version'] = df['Android_version'].replace(android_dict)"
   ]
  },
  {
   "cell_type": "code",
   "execution_count": 60,
   "id": "83c30ae1",
   "metadata": {},
   "outputs": [
    {
     "data": {
      "text/plain": [
       "array(['13', '10', '12', '11', '15', 9, '14', nan, 10, 12, '7', 8, '8',\n",
       "       '5', '6', '9', '3', '2', '4', 'Android', 3, '1', 4], dtype=object)"
      ]
     },
     "execution_count": 60,
     "metadata": {},
     "output_type": "execute_result"
    }
   ],
   "source": [
    "df['Android_version'].unique()"
   ]
  },
  {
   "cell_type": "code",
   "execution_count": 61,
   "id": "ed08be85",
   "metadata": {},
   "outputs": [],
   "source": [
    "df = df[df['Android_version'] != 'Android']"
   ]
  },
  {
   "cell_type": "markdown",
   "id": "cdcf4975",
   "metadata": {},
   "source": [
    "# Company Column"
   ]
  },
  {
   "cell_type": "code",
   "execution_count": 62,
   "id": "e43650cd",
   "metadata": {},
   "outputs": [],
   "source": [
    "company_dict = {'OPPO':'Oppo','iQOO':'IQOO','POCO':'Poco','itel':'Itel'}"
   ]
  },
  {
   "cell_type": "code",
   "execution_count": 63,
   "id": "40bb1b84",
   "metadata": {},
   "outputs": [],
   "source": [
    "df['company'] = df['company'].replace(company_dict)"
   ]
  },
  {
   "cell_type": "markdown",
   "id": "10183b9e",
   "metadata": {},
   "source": [
    "# Fast Charging"
   ]
  },
  {
   "cell_type": "code",
   "execution_count": 64,
   "id": "cb93eb0a",
   "metadata": {},
   "outputs": [],
   "source": [
    "df['fast_charging'] = df['fast_charging'].fillna('0')"
   ]
  },
  {
   "cell_type": "markdown",
   "id": "8ecb7bf6",
   "metadata": {},
   "source": [
    "# Processor"
   ]
  },
  {
   "cell_type": "code",
   "execution_count": 65,
   "id": "c30ddcce",
   "metadata": {},
   "outputs": [],
   "source": [
    "processor_l = ['1.8 GHz Processor', '2 GHz Processor', '1.3 GHz Processor', '1.6 GHz Processor','2.3 GHz Processor']\n",
    "fil_rows = []\n",
    "count = 0\n",
    "for index,row in df.iterrows():\n",
    "    if row['Processor'] in processor_l:\n",
    "        df.at[index,'Processor'] = 'Octa Core'"
   ]
  },
  {
   "cell_type": "code",
   "execution_count": 66,
   "id": "10504421",
   "metadata": {},
   "outputs": [],
   "source": [
    "processor_dict = {'Octa Core Processor':'Octa Core','Nine-Cores':'Nine Core','Nine Cores':'Nine Core','Deca Core Processor':'Deca Core'}"
   ]
  },
  {
   "cell_type": "code",
   "execution_count": 67,
   "id": "b6d2aacd",
   "metadata": {},
   "outputs": [],
   "source": [
    "df['Processor'] = df['Processor'].replace(processor_dict)"
   ]
  },
  {
   "cell_type": "code",
   "execution_count": 68,
   "id": "689b7d36",
   "metadata": {},
   "outputs": [
    {
     "data": {
      "text/plain": [
       "array(['Octa Core', nan, 'Quad Core', 'Nine Core', 'Deca Core'],\n",
       "      dtype=object)"
      ]
     },
     "execution_count": 68,
     "metadata": {},
     "output_type": "execute_result"
    }
   ],
   "source": [
    "df['Processor'].unique()"
   ]
  },
  {
   "cell_type": "markdown",
   "id": "00c06a9b",
   "metadata": {},
   "source": [
    "# Processor Name"
   ]
  },
  {
   "cell_type": "code",
   "execution_count": 69,
   "id": "d3dfdc71",
   "metadata": {},
   "outputs": [],
   "source": [
    "for index,row in df.iterrows():\n",
    "    if row['Processor_name'] == 'Octa Core':\n",
    "        df.at[index,'Processor_name'] = ''"
   ]
  },
  {
   "cell_type": "code",
   "execution_count": 70,
   "id": "e393f949",
   "metadata": {},
   "outputs": [
    {
     "name": "stdout",
     "output_type": "stream",
     "text": [
      "Unnamed: 0 :  0\n",
      "Name :  0\n",
      "Rating :  0\n",
      "Spec_score :  0\n",
      "No_of_sim :  0\n",
      "Ram :  0\n",
      "Battery :  0\n",
      "Display :  0\n",
      "Camera :  0\n",
      "External_Memory :  78\n",
      "Android_version :  0\n",
      "Price :  0\n",
      "company :  0\n",
      "Inbuilt_memory :  0\n",
      "fast_charging :  0\n",
      "Screen_resolution :  0\n",
      "Processor :  0\n",
      "Processor_name :  7\n",
      "Fold_and_dual_dis :  1289\n"
     ]
    }
   ],
   "source": [
    "for i in df.columns:\n",
    "    count = 0\n",
    "    for index, row in df.iterrows():\n",
    "        if row[i] == '':\n",
    "            count += 1\n",
    "    print(i, ': ' ,count)"
   ]
  },
  {
   "cell_type": "markdown",
   "id": "e05e43b4",
   "metadata": {},
   "source": [
    "# External Memory"
   ]
  },
  {
   "cell_type": "code",
   "execution_count": 71,
   "id": "c30f0e87",
   "metadata": {},
   "outputs": [],
   "source": [
    "for index, row in df.iterrows():\n",
    "    if row['External_Memory'] == '':\n",
    "        df.at[index,'External_Memory'] = 'No'"
   ]
  },
  {
   "cell_type": "code",
   "execution_count": 72,
   "id": "457189e7",
   "metadata": {},
   "outputs": [],
   "source": [
    "li = ['Android v13', 'Android v10','Android v12','Android v11', 'Android v15','Android v14','Android v9.0 (Pie)','Android v10.0',\n",
    "       'Android v12.1', 'No FM Radio','HarmonyOS v4', 'EMUI v14',\n",
    "       'HarmonyOS v3.0', 'HarmonyOS', 'HarmonyOS v4.0', 'HarmonyOS v5.0',\n",
    "       'HarmonyOS v2.0', 'HarmonyOS v4.2', 'HarmonyOS v5']"
   ]
  },
  {
   "cell_type": "code",
   "execution_count": 73,
   "id": "b21fa337",
   "metadata": {},
   "outputs": [],
   "source": [
    "for index, row in df.iterrows():\n",
    "    if row['External_Memory'] in li:\n",
    "        df.at[index,'External_Memory'] = ''"
   ]
  },
  {
   "cell_type": "code",
   "execution_count": 74,
   "id": "918ac643",
   "metadata": {},
   "outputs": [],
   "source": [
    "for index, row in df.iterrows():\n",
    "    if row['External_Memory'] =='':\n",
    "        df.at[index,'External_Memory'] = 'No'"
   ]
  },
  {
   "cell_type": "markdown",
   "id": "a63e079f",
   "metadata": {},
   "source": [
    "# Filling Null Values"
   ]
  },
  {
   "cell_type": "code",
   "execution_count": 75,
   "id": "d2dfa317",
   "metadata": {},
   "outputs": [],
   "source": [
    "for index, row in df.iterrows():\n",
    "    if row['Processor_name'] =='':\n",
    "        df.at[index,'Processor_name'] = 'Snapdragon 8+ Gen1'"
   ]
  },
  {
   "cell_type": "code",
   "execution_count": 76,
   "id": "8b49f021",
   "metadata": {},
   "outputs": [],
   "source": [
    "for index, row in df.iterrows():\n",
    "    if pd.isnull(row['Processor']):\n",
    "        df.at[index,'Processor'] = 'Octa Core'"
   ]
  },
  {
   "cell_type": "code",
   "execution_count": 77,
   "id": "9c985bc0",
   "metadata": {},
   "outputs": [],
   "source": [
    "df['Android_version'] = df['Android_version'].fillna('13')"
   ]
  },
  {
   "cell_type": "code",
   "execution_count": 78,
   "id": "700c871c",
   "metadata": {},
   "outputs": [],
   "source": [
    "for index,row in df.iterrows():\n",
    "    if row['Fold_and_dual_dis'] == '':\n",
    "        df.at[index,'Fold_and_dual_dis'] = 'None'"
   ]
  },
  {
   "cell_type": "code",
   "execution_count": 79,
   "id": "cb0d4ed3",
   "metadata": {},
   "outputs": [
    {
     "data": {
      "text/plain": [
       "Unnamed: 0           0\n",
       "Name                 0\n",
       "Rating               0\n",
       "Spec_score           0\n",
       "No_of_sim            0\n",
       "Ram                  0\n",
       "Battery              0\n",
       "Display              0\n",
       "Camera               0\n",
       "External_Memory      0\n",
       "Android_version      0\n",
       "Price                0\n",
       "company              0\n",
       "Inbuilt_memory       0\n",
       "fast_charging        0\n",
       "Screen_resolution    0\n",
       "Processor            0\n",
       "Processor_name       0\n",
       "Fold_and_dual_dis    0\n",
       "dtype: int64"
      ]
     },
     "execution_count": 79,
     "metadata": {},
     "output_type": "execute_result"
    }
   ],
   "source": [
    "df.isna().sum()"
   ]
  },
  {
   "cell_type": "markdown",
   "id": "8e6660aa",
   "metadata": {},
   "source": [
    "## Splitting the column"
   ]
  },
  {
   "cell_type": "code",
   "execution_count": 80,
   "id": "314a42b4",
   "metadata": {},
   "outputs": [],
   "source": [
    "def split_col(dataframe,col,split_on,get_index):\n",
    "    dataframe[col] = dataframe[col].str.split(split_on).str.get(get_index)"
   ]
  },
  {
   "cell_type": "code",
   "execution_count": 81,
   "id": "43cb4169",
   "metadata": {},
   "outputs": [
    {
     "ename": "AttributeError",
     "evalue": "Can only use .str accessor with string values!",
     "output_type": "error",
     "traceback": [
      "\u001b[1;31m---------------------------------------------------------------------------\u001b[0m",
      "\u001b[1;31mAttributeError\u001b[0m                            Traceback (most recent call last)",
      "\u001b[1;32m~\\AppData\\Local\\Temp\\ipykernel_3212\\223006341.py\u001b[0m in \u001b[0;36m<module>\u001b[1;34m\u001b[0m\n\u001b[1;32m----> 1\u001b[1;33m \u001b[0msplit_col\u001b[0m\u001b[1;33m(\u001b[0m\u001b[0mdf\u001b[0m\u001b[1;33m,\u001b[0m\u001b[1;34m'Ram'\u001b[0m\u001b[1;33m,\u001b[0m\u001b[1;34m' '\u001b[0m\u001b[1;33m,\u001b[0m\u001b[1;36m0\u001b[0m\u001b[1;33m)\u001b[0m\u001b[1;33m\u001b[0m\u001b[1;33m\u001b[0m\u001b[0m\n\u001b[0m",
      "\u001b[1;32m~\\AppData\\Local\\Temp\\ipykernel_3212\\720360873.py\u001b[0m in \u001b[0;36msplit_col\u001b[1;34m(dataframe, col, split_on, get_index)\u001b[0m\n\u001b[0;32m      1\u001b[0m \u001b[1;32mdef\u001b[0m \u001b[0msplit_col\u001b[0m\u001b[1;33m(\u001b[0m\u001b[0mdataframe\u001b[0m\u001b[1;33m,\u001b[0m\u001b[0mcol\u001b[0m\u001b[1;33m,\u001b[0m\u001b[0msplit_on\u001b[0m\u001b[1;33m,\u001b[0m\u001b[0mget_index\u001b[0m\u001b[1;33m)\u001b[0m\u001b[1;33m:\u001b[0m\u001b[1;33m\u001b[0m\u001b[1;33m\u001b[0m\u001b[0m\n\u001b[1;32m----> 2\u001b[1;33m     \u001b[0mdataframe\u001b[0m\u001b[1;33m[\u001b[0m\u001b[0mcol\u001b[0m\u001b[1;33m]\u001b[0m \u001b[1;33m=\u001b[0m \u001b[0mdataframe\u001b[0m\u001b[1;33m[\u001b[0m\u001b[0mcol\u001b[0m\u001b[1;33m]\u001b[0m\u001b[1;33m.\u001b[0m\u001b[0mstr\u001b[0m\u001b[1;33m.\u001b[0m\u001b[0msplit\u001b[0m\u001b[1;33m(\u001b[0m\u001b[0msplit_on\u001b[0m\u001b[1;33m)\u001b[0m\u001b[1;33m.\u001b[0m\u001b[0mstr\u001b[0m\u001b[1;33m.\u001b[0m\u001b[0mget\u001b[0m\u001b[1;33m(\u001b[0m\u001b[0mget_index\u001b[0m\u001b[1;33m)\u001b[0m\u001b[1;33m\u001b[0m\u001b[1;33m\u001b[0m\u001b[0m\n\u001b[0m",
      "\u001b[1;32mc:\\users\\dev\\appdata\\local\\programs\\python\\python379\\lib\\site-packages\\pandas\\core\\generic.py\u001b[0m in \u001b[0;36m__getattr__\u001b[1;34m(self, name)\u001b[0m\n\u001b[0;32m   5485\u001b[0m         ):\n\u001b[0;32m   5486\u001b[0m             \u001b[1;32mreturn\u001b[0m \u001b[0mself\u001b[0m\u001b[1;33m[\u001b[0m\u001b[0mname\u001b[0m\u001b[1;33m]\u001b[0m\u001b[1;33m\u001b[0m\u001b[1;33m\u001b[0m\u001b[0m\n\u001b[1;32m-> 5487\u001b[1;33m         \u001b[1;32mreturn\u001b[0m \u001b[0mobject\u001b[0m\u001b[1;33m.\u001b[0m\u001b[0m__getattribute__\u001b[0m\u001b[1;33m(\u001b[0m\u001b[0mself\u001b[0m\u001b[1;33m,\u001b[0m \u001b[0mname\u001b[0m\u001b[1;33m)\u001b[0m\u001b[1;33m\u001b[0m\u001b[1;33m\u001b[0m\u001b[0m\n\u001b[0m\u001b[0;32m   5488\u001b[0m \u001b[1;33m\u001b[0m\u001b[0m\n\u001b[0;32m   5489\u001b[0m     \u001b[1;32mdef\u001b[0m \u001b[0m__setattr__\u001b[0m\u001b[1;33m(\u001b[0m\u001b[0mself\u001b[0m\u001b[1;33m,\u001b[0m \u001b[0mname\u001b[0m\u001b[1;33m:\u001b[0m \u001b[0mstr\u001b[0m\u001b[1;33m,\u001b[0m \u001b[0mvalue\u001b[0m\u001b[1;33m)\u001b[0m \u001b[1;33m->\u001b[0m \u001b[1;32mNone\u001b[0m\u001b[1;33m:\u001b[0m\u001b[1;33m\u001b[0m\u001b[1;33m\u001b[0m\u001b[0m\n",
      "\u001b[1;32mc:\\users\\dev\\appdata\\local\\programs\\python\\python379\\lib\\site-packages\\pandas\\core\\accessor.py\u001b[0m in \u001b[0;36m__get__\u001b[1;34m(self, obj, cls)\u001b[0m\n\u001b[0;32m    179\u001b[0m             \u001b[1;31m# we're accessing the attribute of the class, i.e., Dataset.geo\u001b[0m\u001b[1;33m\u001b[0m\u001b[1;33m\u001b[0m\u001b[1;33m\u001b[0m\u001b[0m\n\u001b[0;32m    180\u001b[0m             \u001b[1;32mreturn\u001b[0m \u001b[0mself\u001b[0m\u001b[1;33m.\u001b[0m\u001b[0m_accessor\u001b[0m\u001b[1;33m\u001b[0m\u001b[1;33m\u001b[0m\u001b[0m\n\u001b[1;32m--> 181\u001b[1;33m         \u001b[0maccessor_obj\u001b[0m \u001b[1;33m=\u001b[0m \u001b[0mself\u001b[0m\u001b[1;33m.\u001b[0m\u001b[0m_accessor\u001b[0m\u001b[1;33m(\u001b[0m\u001b[0mobj\u001b[0m\u001b[1;33m)\u001b[0m\u001b[1;33m\u001b[0m\u001b[1;33m\u001b[0m\u001b[0m\n\u001b[0m\u001b[0;32m    182\u001b[0m         \u001b[1;31m# Replace the property with the accessor object. Inspired by:\u001b[0m\u001b[1;33m\u001b[0m\u001b[1;33m\u001b[0m\u001b[1;33m\u001b[0m\u001b[0m\n\u001b[0;32m    183\u001b[0m         \u001b[1;31m# https://www.pydanny.com/cached-property.html\u001b[0m\u001b[1;33m\u001b[0m\u001b[1;33m\u001b[0m\u001b[1;33m\u001b[0m\u001b[0m\n",
      "\u001b[1;32mc:\\users\\dev\\appdata\\local\\programs\\python\\python379\\lib\\site-packages\\pandas\\core\\strings\\accessor.py\u001b[0m in \u001b[0;36m__init__\u001b[1;34m(self, data)\u001b[0m\n\u001b[0;32m    166\u001b[0m         \u001b[1;32mfrom\u001b[0m \u001b[0mpandas\u001b[0m\u001b[1;33m.\u001b[0m\u001b[0mcore\u001b[0m\u001b[1;33m.\u001b[0m\u001b[0marrays\u001b[0m\u001b[1;33m.\u001b[0m\u001b[0mstring_\u001b[0m \u001b[1;32mimport\u001b[0m \u001b[0mStringDtype\u001b[0m\u001b[1;33m\u001b[0m\u001b[1;33m\u001b[0m\u001b[0m\n\u001b[0;32m    167\u001b[0m \u001b[1;33m\u001b[0m\u001b[0m\n\u001b[1;32m--> 168\u001b[1;33m         \u001b[0mself\u001b[0m\u001b[1;33m.\u001b[0m\u001b[0m_inferred_dtype\u001b[0m \u001b[1;33m=\u001b[0m \u001b[0mself\u001b[0m\u001b[1;33m.\u001b[0m\u001b[0m_validate\u001b[0m\u001b[1;33m(\u001b[0m\u001b[0mdata\u001b[0m\u001b[1;33m)\u001b[0m\u001b[1;33m\u001b[0m\u001b[1;33m\u001b[0m\u001b[0m\n\u001b[0m\u001b[0;32m    169\u001b[0m         \u001b[0mself\u001b[0m\u001b[1;33m.\u001b[0m\u001b[0m_is_categorical\u001b[0m \u001b[1;33m=\u001b[0m \u001b[0mis_categorical_dtype\u001b[0m\u001b[1;33m(\u001b[0m\u001b[0mdata\u001b[0m\u001b[1;33m.\u001b[0m\u001b[0mdtype\u001b[0m\u001b[1;33m)\u001b[0m\u001b[1;33m\u001b[0m\u001b[1;33m\u001b[0m\u001b[0m\n\u001b[0;32m    170\u001b[0m         \u001b[0mself\u001b[0m\u001b[1;33m.\u001b[0m\u001b[0m_is_string\u001b[0m \u001b[1;33m=\u001b[0m \u001b[0misinstance\u001b[0m\u001b[1;33m(\u001b[0m\u001b[0mdata\u001b[0m\u001b[1;33m.\u001b[0m\u001b[0mdtype\u001b[0m\u001b[1;33m,\u001b[0m \u001b[0mStringDtype\u001b[0m\u001b[1;33m)\u001b[0m\u001b[1;33m\u001b[0m\u001b[1;33m\u001b[0m\u001b[0m\n",
      "\u001b[1;32mc:\\users\\dev\\appdata\\local\\programs\\python\\python379\\lib\\site-packages\\pandas\\core\\strings\\accessor.py\u001b[0m in \u001b[0;36m_validate\u001b[1;34m(data)\u001b[0m\n\u001b[0;32m    223\u001b[0m \u001b[1;33m\u001b[0m\u001b[0m\n\u001b[0;32m    224\u001b[0m         \u001b[1;32mif\u001b[0m \u001b[0minferred_dtype\u001b[0m \u001b[1;32mnot\u001b[0m \u001b[1;32min\u001b[0m \u001b[0mallowed_types\u001b[0m\u001b[1;33m:\u001b[0m\u001b[1;33m\u001b[0m\u001b[1;33m\u001b[0m\u001b[0m\n\u001b[1;32m--> 225\u001b[1;33m             \u001b[1;32mraise\u001b[0m \u001b[0mAttributeError\u001b[0m\u001b[1;33m(\u001b[0m\u001b[1;34m\"Can only use .str accessor with string values!\"\u001b[0m\u001b[1;33m)\u001b[0m\u001b[1;33m\u001b[0m\u001b[1;33m\u001b[0m\u001b[0m\n\u001b[0m\u001b[0;32m    226\u001b[0m         \u001b[1;32mreturn\u001b[0m \u001b[0minferred_dtype\u001b[0m\u001b[1;33m\u001b[0m\u001b[1;33m\u001b[0m\u001b[0m\n\u001b[0;32m    227\u001b[0m \u001b[1;33m\u001b[0m\u001b[0m\n",
      "\u001b[1;31mAttributeError\u001b[0m: Can only use .str accessor with string values!"
     ]
    }
   ],
   "source": [
    "split_col(df,'Ram',' ',0)"
   ]
  },
  {
   "cell_type": "code",
   "execution_count": 82,
   "id": "606d05d7",
   "metadata": {},
   "outputs": [
    {
     "data": {
      "text/plain": [
       "array([ 4. ,  2. ,  6. ,  8. , 12. ,  1. ,  3. , 16. , 24. , 18. ,  1.5,\n",
       "        0. ])"
      ]
     },
     "execution_count": 82,
     "metadata": {},
     "output_type": "execute_result"
    }
   ],
   "source": [
    "df['Ram'].unique()"
   ]
  },
  {
   "cell_type": "code",
   "execution_count": 83,
   "id": "1dd8aa2b",
   "metadata": {},
   "outputs": [],
   "source": [
    "split_col(df,'Battery',' ',0)"
   ]
  },
  {
   "cell_type": "code",
   "execution_count": 84,
   "id": "e48b76f1",
   "metadata": {},
   "outputs": [
    {
     "data": {
      "text/plain": [
       "array(['6000', '4000', '5000', '3500', '4500', '3400', '3300', '4050',\n",
       "       '3900', '4300', '4800', '4200', '3700', '4400', '4320', '4030',\n",
       "       '1900', '2650', '3000', '4600', '4100', '5500', '4830', '4700',\n",
       "       '4810', '5100', '5400', '4870', '5700', '4730', '5200', '5240',\n",
       "       '5050', '4310', '4350', '4880', '4520', '4260', '4820', '4805',\n",
       "       '5160', '5080', '5065', '10500', '5800', '5300', '5450', '5600',\n",
       "       '2800', '4620', '4385', '4410', '4355', '4492', '4575', '5003',\n",
       "       '4821', '7000', '3760', '2600', '4900', '4020', '4450', '4610',\n",
       "       '3800', '3440', '2510', '6100', '2100', '5020', '4980', '4250',\n",
       "       '4460', '4815', '4750', '5330', '5010'], dtype=object)"
      ]
     },
     "execution_count": 84,
     "metadata": {},
     "output_type": "execute_result"
    }
   ],
   "source": [
    "df['Battery'].unique()"
   ]
  },
  {
   "cell_type": "code",
   "execution_count": 85,
   "id": "ee356f02",
   "metadata": {},
   "outputs": [],
   "source": [
    "split_col(df, 'Display',' ',0)"
   ]
  },
  {
   "cell_type": "code",
   "execution_count": 86,
   "id": "ddbd4cf9",
   "metadata": {},
   "outputs": [
    {
     "data": {
      "text/plain": [
       "array(['6.6', '6.4', '6.5', '6.1', '6.7', '6.21', '6.67', '6.58', '6.71',\n",
       "       '6.78', '6.8', '6.56', '6.3', '7.45', '6.2', '8.2', '7.6', '8',\n",
       "       '7.63', '6.22', '4.5', '6.51', '6.53', '6.35', '6.55', '6.64',\n",
       "       '5.2', '5.5', '6.72', '6.44', '6.82', '6.68', '7', '6.74', '8.03',\n",
       "       '8.02', '7.8', '6.52', '6.59', '6.43', '6.62', '6.57', '6.73',\n",
       "       '6.83', '7.1', '7.4', '7.56', '7.82', '6.38', '6.79', '6.61',\n",
       "       '6.69', '12.1', '6.77', '6.75', '6.81', '7.2', '7.71', '7.92',\n",
       "       '6.76', '7.9', '5.6', '5.7', '6.34', '6.14', '6.03', '8.3', '5.9',\n",
       "       '5.92', '6', '6.26', '6.09', '5.99', '6.92', '5', '6.45', '6.9',\n",
       "       '6.47', '6.28', '6.49', '6.08', '7.85', '7.11', '6.95', '6.94',\n",
       "       '7.09', '10'], dtype=object)"
      ]
     },
     "execution_count": 86,
     "metadata": {},
     "output_type": "execute_result"
    }
   ],
   "source": [
    "df['Display'].unique()"
   ]
  },
  {
   "cell_type": "code",
   "execution_count": 87,
   "id": "fc2593d6",
   "metadata": {},
   "outputs": [],
   "source": [
    "split_col(df,'Inbuilt_memory',' ',0)"
   ]
  },
  {
   "cell_type": "code",
   "execution_count": 88,
   "id": "25190be6",
   "metadata": {},
   "outputs": [
    {
     "data": {
      "text/plain": [
       "array(['128', '32', '64', '256', '1', '512', '16', '258', '8'],\n",
       "      dtype=object)"
      ]
     },
     "execution_count": 88,
     "metadata": {},
     "output_type": "execute_result"
    }
   ],
   "source": [
    "df['Inbuilt_memory'].unique()"
   ]
  },
  {
   "cell_type": "code",
   "execution_count": 89,
   "id": "630e5bd3",
   "metadata": {},
   "outputs": [],
   "source": [
    "split_col(df,'fast_charging',' ',0)"
   ]
  },
  {
   "cell_type": "code",
   "execution_count": 90,
   "id": "25fed144",
   "metadata": {},
   "outputs": [
    {
     "data": {
      "text/plain": [
       "array(['25W', '15W', '0', '18W', '30W', 'Fast', '45W', '33W', '67W',\n",
       "       '80W', '10W', '44W', '66W', '100W', '120W', '150W', '55W', '200W',\n",
       "       '65W', '60W', '20W', '50W', '57W', '240W', '125W', '68W', '250W',\n",
       "       '27W', '35W', '22.5W', '40W', '90W', '08W', '68.2W', '135W', '70W',\n",
       "       '88W', '7.5W'], dtype=object)"
      ]
     },
     "execution_count": 90,
     "metadata": {},
     "output_type": "execute_result"
    }
   ],
   "source": [
    "df['fast_charging'].unique()"
   ]
  },
  {
   "cell_type": "code",
   "execution_count": 91,
   "id": "06726431",
   "metadata": {},
   "outputs": [],
   "source": [
    "df = df[df['fast_charging'] != 'Fast']"
   ]
  },
  {
   "cell_type": "code",
   "execution_count": 92,
   "id": "8ff4fe8f",
   "metadata": {},
   "outputs": [],
   "source": [
    "def replace_fun(dataframe,col,replace_val,replace_with):\n",
    "    dataframe[col] = dataframe[col].str.replace(replace_val, replace_with)"
   ]
  },
  {
   "cell_type": "code",
   "execution_count": 93,
   "id": "3644a6ea",
   "metadata": {},
   "outputs": [
    {
     "name": "stderr",
     "output_type": "stream",
     "text": [
      "c:\\users\\dev\\appdata\\local\\programs\\python\\python379\\lib\\site-packages\\ipykernel_launcher.py:2: SettingWithCopyWarning: \n",
      "A value is trying to be set on a copy of a slice from a DataFrame.\n",
      "Try using .loc[row_indexer,col_indexer] = value instead\n",
      "\n",
      "See the caveats in the documentation: https://pandas.pydata.org/pandas-docs/stable/user_guide/indexing.html#returning-a-view-versus-a-copy\n",
      "  \n"
     ]
    }
   ],
   "source": [
    "replace_fun(df,'Price',',','')"
   ]
  },
  {
   "cell_type": "code",
   "execution_count": 94,
   "id": "81f03274",
   "metadata": {},
   "outputs": [
    {
     "name": "stderr",
     "output_type": "stream",
     "text": [
      "c:\\users\\dev\\appdata\\local\\programs\\python\\python379\\lib\\site-packages\\ipykernel_launcher.py:2: SettingWithCopyWarning: \n",
      "A value is trying to be set on a copy of a slice from a DataFrame.\n",
      "Try using .loc[row_indexer,col_indexer] = value instead\n",
      "\n",
      "See the caveats in the documentation: https://pandas.pydata.org/pandas-docs/stable/user_guide/indexing.html#returning-a-view-versus-a-copy\n",
      "  \n"
     ]
    }
   ],
   "source": [
    "replace_fun(df,'fast_charging','W','')"
   ]
  },
  {
   "cell_type": "markdown",
   "id": "51e24425",
   "metadata": {},
   "source": [
    "# Changing Datatypes"
   ]
  },
  {
   "cell_type": "code",
   "execution_count": 95,
   "id": "ced86fa4",
   "metadata": {},
   "outputs": [],
   "source": [
    "def change_dtypes(dataframe,col,dtypes):\n",
    "    dataframe[col] = dataframe[col].astype(dtypes)"
   ]
  },
  {
   "cell_type": "code",
   "execution_count": 96,
   "id": "bdb1315f",
   "metadata": {},
   "outputs": [
    {
     "name": "stderr",
     "output_type": "stream",
     "text": [
      "c:\\users\\dev\\appdata\\local\\programs\\python\\python379\\lib\\site-packages\\ipykernel_launcher.py:2: SettingWithCopyWarning: \n",
      "A value is trying to be set on a copy of a slice from a DataFrame.\n",
      "Try using .loc[row_indexer,col_indexer] = value instead\n",
      "\n",
      "See the caveats in the documentation: https://pandas.pydata.org/pandas-docs/stable/user_guide/indexing.html#returning-a-view-versus-a-copy\n",
      "  \n"
     ]
    }
   ],
   "source": [
    "change_dtypes(df,'Ram','float')"
   ]
  },
  {
   "cell_type": "code",
   "execution_count": 97,
   "id": "f4b633d6",
   "metadata": {},
   "outputs": [
    {
     "name": "stderr",
     "output_type": "stream",
     "text": [
      "c:\\users\\dev\\appdata\\local\\programs\\python\\python379\\lib\\site-packages\\ipykernel_launcher.py:2: SettingWithCopyWarning: \n",
      "A value is trying to be set on a copy of a slice from a DataFrame.\n",
      "Try using .loc[row_indexer,col_indexer] = value instead\n",
      "\n",
      "See the caveats in the documentation: https://pandas.pydata.org/pandas-docs/stable/user_guide/indexing.html#returning-a-view-versus-a-copy\n",
      "  \n"
     ]
    }
   ],
   "source": [
    "change_dtypes(df,'Battery','int32')"
   ]
  },
  {
   "cell_type": "code",
   "execution_count": 98,
   "id": "52d4e0a0",
   "metadata": {},
   "outputs": [
    {
     "name": "stderr",
     "output_type": "stream",
     "text": [
      "c:\\users\\dev\\appdata\\local\\programs\\python\\python379\\lib\\site-packages\\ipykernel_launcher.py:2: SettingWithCopyWarning: \n",
      "A value is trying to be set on a copy of a slice from a DataFrame.\n",
      "Try using .loc[row_indexer,col_indexer] = value instead\n",
      "\n",
      "See the caveats in the documentation: https://pandas.pydata.org/pandas-docs/stable/user_guide/indexing.html#returning-a-view-versus-a-copy\n",
      "  \n"
     ]
    }
   ],
   "source": [
    "change_dtypes(df,'Display','float')"
   ]
  },
  {
   "cell_type": "code",
   "execution_count": 99,
   "id": "89bd4248",
   "metadata": {},
   "outputs": [
    {
     "name": "stderr",
     "output_type": "stream",
     "text": [
      "c:\\users\\dev\\appdata\\local\\programs\\python\\python379\\lib\\site-packages\\ipykernel_launcher.py:2: SettingWithCopyWarning: \n",
      "A value is trying to be set on a copy of a slice from a DataFrame.\n",
      "Try using .loc[row_indexer,col_indexer] = value instead\n",
      "\n",
      "See the caveats in the documentation: https://pandas.pydata.org/pandas-docs/stable/user_guide/indexing.html#returning-a-view-versus-a-copy\n",
      "  \n"
     ]
    }
   ],
   "source": [
    "change_dtypes(df,'fast_charging','float')"
   ]
  },
  {
   "cell_type": "code",
   "execution_count": 100,
   "id": "16c02b53",
   "metadata": {},
   "outputs": [
    {
     "name": "stderr",
     "output_type": "stream",
     "text": [
      "c:\\users\\dev\\appdata\\local\\programs\\python\\python379\\lib\\site-packages\\ipykernel_launcher.py:2: SettingWithCopyWarning: \n",
      "A value is trying to be set on a copy of a slice from a DataFrame.\n",
      "Try using .loc[row_indexer,col_indexer] = value instead\n",
      "\n",
      "See the caveats in the documentation: https://pandas.pydata.org/pandas-docs/stable/user_guide/indexing.html#returning-a-view-versus-a-copy\n",
      "  \n"
     ]
    }
   ],
   "source": [
    "change_dtypes(df,'Inbuilt_memory','int32')"
   ]
  },
  {
   "cell_type": "code",
   "execution_count": 101,
   "id": "180404c9",
   "metadata": {},
   "outputs": [
    {
     "name": "stderr",
     "output_type": "stream",
     "text": [
      "c:\\users\\dev\\appdata\\local\\programs\\python\\python379\\lib\\site-packages\\ipykernel_launcher.py:2: SettingWithCopyWarning: \n",
      "A value is trying to be set on a copy of a slice from a DataFrame.\n",
      "Try using .loc[row_indexer,col_indexer] = value instead\n",
      "\n",
      "See the caveats in the documentation: https://pandas.pydata.org/pandas-docs/stable/user_guide/indexing.html#returning-a-view-versus-a-copy\n",
      "  \n"
     ]
    }
   ],
   "source": [
    "change_dtypes(df,'Android_version','float')"
   ]
  },
  {
   "cell_type": "code",
   "execution_count": 102,
   "id": "056a191b",
   "metadata": {},
   "outputs": [
    {
     "name": "stderr",
     "output_type": "stream",
     "text": [
      "c:\\users\\dev\\appdata\\local\\programs\\python\\python379\\lib\\site-packages\\ipykernel_launcher.py:2: SettingWithCopyWarning: \n",
      "A value is trying to be set on a copy of a slice from a DataFrame.\n",
      "Try using .loc[row_indexer,col_indexer] = value instead\n",
      "\n",
      "See the caveats in the documentation: https://pandas.pydata.org/pandas-docs/stable/user_guide/indexing.html#returning-a-view-versus-a-copy\n",
      "  \n"
     ]
    }
   ],
   "source": [
    "change_dtypes(df,'Price','int64')"
   ]
  },
  {
   "cell_type": "markdown",
   "id": "13b26ec5",
   "metadata": {},
   "source": [
    "# Feature Creation"
   ]
  },
  {
   "cell_type": "code",
   "execution_count": 103,
   "id": "03dce1fa",
   "metadata": {},
   "outputs": [
    {
     "name": "stderr",
     "output_type": "stream",
     "text": [
      "c:\\users\\dev\\appdata\\local\\programs\\python\\python379\\lib\\site-packages\\ipykernel_launcher.py:1: SettingWithCopyWarning: \n",
      "A value is trying to be set on a copy of a slice from a DataFrame.\n",
      "Try using .loc[row_indexer,col_indexer] = value instead\n",
      "\n",
      "See the caveats in the documentation: https://pandas.pydata.org/pandas-docs/stable/user_guide/indexing.html#returning-a-view-versus-a-copy\n",
      "  \"\"\"Entry point for launching an IPython kernel.\n"
     ]
    }
   ],
   "source": [
    "df['hresolution'] = df['Screen_resolution'].str.split(' ').str.get(0)"
   ]
  },
  {
   "cell_type": "code",
   "execution_count": 104,
   "id": "47869c7b",
   "metadata": {},
   "outputs": [
    {
     "name": "stderr",
     "output_type": "stream",
     "text": [
      "c:\\users\\dev\\appdata\\local\\programs\\python\\python379\\lib\\site-packages\\ipykernel_launcher.py:1: SettingWithCopyWarning: \n",
      "A value is trying to be set on a copy of a slice from a DataFrame.\n",
      "Try using .loc[row_indexer,col_indexer] = value instead\n",
      "\n",
      "See the caveats in the documentation: https://pandas.pydata.org/pandas-docs/stable/user_guide/indexing.html#returning-a-view-versus-a-copy\n",
      "  \"\"\"Entry point for launching an IPython kernel.\n"
     ]
    }
   ],
   "source": [
    "df['vresolution'] = df['Screen_resolution'].str.split(' ').str.get(2)"
   ]
  },
  {
   "cell_type": "code",
   "execution_count": 105,
   "id": "1774211c",
   "metadata": {},
   "outputs": [],
   "source": [
    "df = df[df['hresolution'] != 'Full']"
   ]
  },
  {
   "cell_type": "code",
   "execution_count": 106,
   "id": "5ea358e2",
   "metadata": {},
   "outputs": [],
   "source": [
    "change_dtypes(df,'hresolution','int64')"
   ]
  },
  {
   "cell_type": "code",
   "execution_count": 107,
   "id": "3136a4ce",
   "metadata": {},
   "outputs": [],
   "source": [
    "change_dtypes(df,'vresolution','int64')"
   ]
  },
  {
   "cell_type": "code",
   "execution_count": 108,
   "id": "fa1ebb03",
   "metadata": {},
   "outputs": [
    {
     "data": {
      "text/plain": [
       "array(['Memory Card Supported, upto 1 TB',\n",
       "       'Memory Card Supported, upto 512 GB', 'Memory Card Supported',\n",
       "       'Memory Card (Hybrid), upto 1 TB', 'Memory Card Not Supported',\n",
       "       'Memory Card (Hybrid)', 'No', 'Memory Card Supported, upto 256 GB',\n",
       "       'Memory Card Supported, upto 128 GB',\n",
       "       'Memory Card Supported, upto 2 TB',\n",
       "       'Memory Card (Hybrid), upto 2 TB',\n",
       "       'Memory Card (Hybrid), upto 512 GB',\n",
       "       'Memory Card (Hybrid), upto 256 GB',\n",
       "       'Memory Card Supported, upto 32 GB'], dtype=object)"
      ]
     },
     "execution_count": 108,
     "metadata": {},
     "output_type": "execute_result"
    }
   ],
   "source": [
    "df['External_Memory'].unique()"
   ]
  },
  {
   "cell_type": "code",
   "execution_count": 109,
   "id": "0f62d181",
   "metadata": {},
   "outputs": [],
   "source": [
    "for index,row in df.iterrows():\n",
    "    if (' ').join(row['External_Memory'].split(' ')[0:3]) == 'Memory Card Supported,':\n",
    "        if row['External_Memory'].split(' ')[4] == '1':\n",
    "            df.at[index,'External_memory'] = 1024\n",
    "        else:\n",
    "            df.at[index,'External_memory'] = row['External_Memory'].split(' ')[4]\n",
    "    elif (' ').join(row['External_Memory'].split(' ')[0:3]) == 'Memory Card Supported':\n",
    "        df.at[index,'External_memory'] = 128\n",
    "    elif (' ').join(row['External_Memory'].split(' ')[0:3]) == 'Memory Card (Hybrid),':\n",
    "        df.at[index,'External_memory'] = row['External_Memory'].split(' ')[4]\n",
    "    elif (' ').join(row['External_Memory'].split(' ')[0:3]) == 'Memory Card (Hybrid)':\n",
    "        df.at[index,'External_memory'] = 128\n",
    "    elif (' ').join(row['External_Memory'].split(' ')[0:4]) == 'Memory Card Not Supported':\n",
    "        df.at[index,'External_memory'] = 0\n",
    "    elif row['External_Memory'] == 'No':\n",
    "        df.at[index,'External_memory'] = 0    "
   ]
  },
  {
   "cell_type": "code",
   "execution_count": 110,
   "id": "6a694622",
   "metadata": {},
   "outputs": [],
   "source": [
    "processor = {'Quad Core':1,'Octa Core':2,'Nine Core':3,'Deca Core':4}"
   ]
  },
  {
   "cell_type": "code",
   "execution_count": 111,
   "id": "93ef3eb4",
   "metadata": {},
   "outputs": [],
   "source": [
    "df['Processor'] = df['Processor'].replace(processor)"
   ]
  },
  {
   "cell_type": "code",
   "execution_count": 112,
   "id": "44172175",
   "metadata": {},
   "outputs": [
    {
     "data": {
      "text/plain": [
       "array(['None', 'Foldable Display, Dual Display', 'Dual Display',\n",
       "       'Foldable Display'], dtype=object)"
      ]
     },
     "execution_count": 112,
     "metadata": {},
     "output_type": "execute_result"
    }
   ],
   "source": [
    "df['Fold_and_dual_dis'].unique()"
   ]
  },
  {
   "cell_type": "code",
   "execution_count": 113,
   "id": "43260c68",
   "metadata": {},
   "outputs": [],
   "source": [
    "fold_and_dual_dis = {'None':0,'Dual Display':1,'Foldable Display':2,'Foldable Display, Dual Display':3}"
   ]
  },
  {
   "cell_type": "code",
   "execution_count": 114,
   "id": "6a28c52a",
   "metadata": {},
   "outputs": [],
   "source": [
    "df['Fold_and_dual_dis'] = df['Fold_and_dual_dis'].replace(fold_and_dual_dis)"
   ]
  },
  {
   "cell_type": "code",
   "execution_count": 115,
   "id": "1c2ae4bb",
   "metadata": {},
   "outputs": [],
   "source": [
    "processor_name = {'Sanpdragon':'Snapdragon','Qualcomm':'Snapdragon','Samsung':'Exynos','Google':'Tensor','Quad':'Snapdragon','Octa':'Snapdragon','SC9863A':'Snapdragon'}"
   ]
  },
  {
   "cell_type": "code",
   "execution_count": 116,
   "id": "acd46f7e",
   "metadata": {},
   "outputs": [],
   "source": [
    "df['Processor_name'] = df['Processor_name'].str.split(' ').str.get(0)"
   ]
  },
  {
   "cell_type": "code",
   "execution_count": 117,
   "id": "c3edaa09",
   "metadata": {},
   "outputs": [],
   "source": [
    "df['Processor_name'] = df['Processor_name'].replace(processor_name)"
   ]
  },
  {
   "cell_type": "code",
   "execution_count": 118,
   "id": "9ef859b3",
   "metadata": {},
   "outputs": [],
   "source": [
    "pro_name ={'Snapdragon':1,'Dimensity':2,'Helio':3,'Exynos':4,'Unisoc':5,'Kirin':6,'Tiger':7,'Tensor':8}"
   ]
  },
  {
   "cell_type": "code",
   "execution_count": 119,
   "id": "268c0368",
   "metadata": {},
   "outputs": [],
   "source": [
    "df['Processor_name'] = df['Processor_name'].replace(pro_name)"
   ]
  },
  {
   "cell_type": "code",
   "execution_count": 120,
   "id": "37fc734b",
   "metadata": {},
   "outputs": [],
   "source": [
    "company_name = {'Vivo':1,'Realme':2,'Samsung':3,'Motorola':4,'Poco':5,'Xiaomi':6,'Honor':7,'OnePlus':8,'Oppo':9,'Huawei':10,\n",
    "               'IQOO':11,'TCL':12,'Asus':13,'Lava':14,'Google':15,'Itel':16,'Nothing':17,'Lenovo':18,'Tecno':19,'Gionee':20,\n",
    "               'LG':21,'Coolpad':22}"
   ]
  },
  {
   "cell_type": "code",
   "execution_count": 121,
   "id": "8688ef7d",
   "metadata": {},
   "outputs": [],
   "source": [
    "df['company'] = df['company'].replace(company_name)"
   ]
  },
  {
   "cell_type": "code",
   "execution_count": 122,
   "id": "cdabbf95",
   "metadata": {},
   "outputs": [
    {
     "data": {
      "text/html": [
       "<div>\n",
       "<style scoped>\n",
       "    .dataframe tbody tr th:only-of-type {\n",
       "        vertical-align: middle;\n",
       "    }\n",
       "\n",
       "    .dataframe tbody tr th {\n",
       "        vertical-align: top;\n",
       "    }\n",
       "\n",
       "    .dataframe thead th {\n",
       "        text-align: right;\n",
       "    }\n",
       "</style>\n",
       "<table border=\"1\" class=\"dataframe\">\n",
       "  <thead>\n",
       "    <tr style=\"text-align: right;\">\n",
       "      <th></th>\n",
       "      <th>Unnamed: 0</th>\n",
       "      <th>Name</th>\n",
       "      <th>Rating</th>\n",
       "      <th>Spec_score</th>\n",
       "      <th>No_of_sim</th>\n",
       "      <th>Ram</th>\n",
       "      <th>Battery</th>\n",
       "      <th>Display</th>\n",
       "      <th>Camera</th>\n",
       "      <th>External_Memory</th>\n",
       "      <th>...</th>\n",
       "      <th>company</th>\n",
       "      <th>Inbuilt_memory</th>\n",
       "      <th>fast_charging</th>\n",
       "      <th>Screen_resolution</th>\n",
       "      <th>Processor</th>\n",
       "      <th>Processor_name</th>\n",
       "      <th>Fold_and_dual_dis</th>\n",
       "      <th>hresolution</th>\n",
       "      <th>vresolution</th>\n",
       "      <th>External_memory</th>\n",
       "    </tr>\n",
       "  </thead>\n",
       "  <tbody>\n",
       "    <tr>\n",
       "      <th>0</th>\n",
       "      <td>0</td>\n",
       "      <td>Samsung Galaxy F14 5G</td>\n",
       "      <td>4.65</td>\n",
       "      <td>68</td>\n",
       "      <td>Dual Sim, 3G, 4G, 5G, VoLTE,</td>\n",
       "      <td>4.0</td>\n",
       "      <td>6000</td>\n",
       "      <td>6.6</td>\n",
       "      <td>50 MP + 2 MP Dual Rear &amp;amp; 13 MP Front Camera</td>\n",
       "      <td>Memory Card Supported, upto 1 TB</td>\n",
       "      <td>...</td>\n",
       "      <td>3</td>\n",
       "      <td>128</td>\n",
       "      <td>25.0</td>\n",
       "      <td>2408 x 1080 px Display with Water Drop Notch</td>\n",
       "      <td>2</td>\n",
       "      <td>4</td>\n",
       "      <td>0</td>\n",
       "      <td>2408</td>\n",
       "      <td>1080</td>\n",
       "      <td>1024.0</td>\n",
       "    </tr>\n",
       "    <tr>\n",
       "      <th>1</th>\n",
       "      <td>1</td>\n",
       "      <td>Samsung Galaxy A11</td>\n",
       "      <td>4.20</td>\n",
       "      <td>63</td>\n",
       "      <td>Dual Sim, 3G, 4G, VoLTE,</td>\n",
       "      <td>2.0</td>\n",
       "      <td>4000</td>\n",
       "      <td>6.4</td>\n",
       "      <td>13 MP + 5 MP + 2 MP Triple Rear &amp;amp; 8 MP Fro...</td>\n",
       "      <td>Memory Card Supported, upto 512 GB</td>\n",
       "      <td>...</td>\n",
       "      <td>3</td>\n",
       "      <td>32</td>\n",
       "      <td>15.0</td>\n",
       "      <td>720 x 1560 px Display with Punch Hole</td>\n",
       "      <td>2</td>\n",
       "      <td>1</td>\n",
       "      <td>0</td>\n",
       "      <td>720</td>\n",
       "      <td>1560</td>\n",
       "      <td>512.0</td>\n",
       "    </tr>\n",
       "    <tr>\n",
       "      <th>2</th>\n",
       "      <td>2</td>\n",
       "      <td>Samsung Galaxy A13</td>\n",
       "      <td>4.30</td>\n",
       "      <td>75</td>\n",
       "      <td>Dual Sim, 3G, 4G, VoLTE,</td>\n",
       "      <td>4.0</td>\n",
       "      <td>5000</td>\n",
       "      <td>6.6</td>\n",
       "      <td>50 MP Quad Rear &amp;amp; 8 MP Front Camera</td>\n",
       "      <td>Memory Card Supported, upto 1 TB</td>\n",
       "      <td>...</td>\n",
       "      <td>3</td>\n",
       "      <td>64</td>\n",
       "      <td>25.0</td>\n",
       "      <td>1080 x 2408 px Display with Water Drop Notch</td>\n",
       "      <td>2</td>\n",
       "      <td>1</td>\n",
       "      <td>0</td>\n",
       "      <td>1080</td>\n",
       "      <td>2408</td>\n",
       "      <td>1024.0</td>\n",
       "    </tr>\n",
       "    <tr>\n",
       "      <th>3</th>\n",
       "      <td>3</td>\n",
       "      <td>Samsung Galaxy F23</td>\n",
       "      <td>4.10</td>\n",
       "      <td>73</td>\n",
       "      <td>Dual Sim, 3G, 4G, VoLTE,</td>\n",
       "      <td>4.0</td>\n",
       "      <td>6000</td>\n",
       "      <td>6.4</td>\n",
       "      <td>48 MP Quad Rear &amp;amp; 13 MP Front Camera</td>\n",
       "      <td>Memory Card Supported, upto 1 TB</td>\n",
       "      <td>...</td>\n",
       "      <td>3</td>\n",
       "      <td>64</td>\n",
       "      <td>0.0</td>\n",
       "      <td>720 x 1600 px</td>\n",
       "      <td>2</td>\n",
       "      <td>3</td>\n",
       "      <td>0</td>\n",
       "      <td>720</td>\n",
       "      <td>1600</td>\n",
       "      <td>1024.0</td>\n",
       "    </tr>\n",
       "    <tr>\n",
       "      <th>4</th>\n",
       "      <td>4</td>\n",
       "      <td>Samsung Galaxy A03s (4GB RAM + 64GB)</td>\n",
       "      <td>4.10</td>\n",
       "      <td>69</td>\n",
       "      <td>Dual Sim, 3G, 4G, VoLTE,</td>\n",
       "      <td>4.0</td>\n",
       "      <td>5000</td>\n",
       "      <td>6.5</td>\n",
       "      <td>13 MP + 2 MP + 2 MP Triple Rear &amp;amp; 5 MP Fro...</td>\n",
       "      <td>Memory Card Supported, upto 1 TB</td>\n",
       "      <td>...</td>\n",
       "      <td>3</td>\n",
       "      <td>64</td>\n",
       "      <td>15.0</td>\n",
       "      <td>720 x 1600 px Display with Water Drop Notch</td>\n",
       "      <td>2</td>\n",
       "      <td>3</td>\n",
       "      <td>0</td>\n",
       "      <td>720</td>\n",
       "      <td>1600</td>\n",
       "      <td>1024.0</td>\n",
       "    </tr>\n",
       "    <tr>\n",
       "      <th>...</th>\n",
       "      <td>...</td>\n",
       "      <td>...</td>\n",
       "      <td>...</td>\n",
       "      <td>...</td>\n",
       "      <td>...</td>\n",
       "      <td>...</td>\n",
       "      <td>...</td>\n",
       "      <td>...</td>\n",
       "      <td>...</td>\n",
       "      <td>...</td>\n",
       "      <td>...</td>\n",
       "      <td>...</td>\n",
       "      <td>...</td>\n",
       "      <td>...</td>\n",
       "      <td>...</td>\n",
       "      <td>...</td>\n",
       "      <td>...</td>\n",
       "      <td>...</td>\n",
       "      <td>...</td>\n",
       "      <td>...</td>\n",
       "      <td>...</td>\n",
       "    </tr>\n",
       "    <tr>\n",
       "      <th>1365</th>\n",
       "      <td>1365</td>\n",
       "      <td>TCL 40R</td>\n",
       "      <td>4.05</td>\n",
       "      <td>75</td>\n",
       "      <td>Dual Sim, 3G, 4G, 5G, VoLTE,</td>\n",
       "      <td>4.0</td>\n",
       "      <td>5000</td>\n",
       "      <td>6.6</td>\n",
       "      <td>50 MP + 2 MP + 2 MP Triple Rear &amp;amp; 8 MP Fro...</td>\n",
       "      <td>Memory Card (Hybrid)</td>\n",
       "      <td>...</td>\n",
       "      <td>12</td>\n",
       "      <td>64</td>\n",
       "      <td>15.0</td>\n",
       "      <td>720 x 1612 px</td>\n",
       "      <td>2</td>\n",
       "      <td>2</td>\n",
       "      <td>0</td>\n",
       "      <td>720</td>\n",
       "      <td>1612</td>\n",
       "      <td>128.0</td>\n",
       "    </tr>\n",
       "    <tr>\n",
       "      <th>1366</th>\n",
       "      <td>1366</td>\n",
       "      <td>TCL 50 XL NxtPaper 5G</td>\n",
       "      <td>4.10</td>\n",
       "      <td>80</td>\n",
       "      <td>Dual Sim, 3G, 4G, VoLTE,</td>\n",
       "      <td>8.0</td>\n",
       "      <td>5000</td>\n",
       "      <td>6.8</td>\n",
       "      <td>50 MP + 2 MP Dual Rear &amp;amp; 16 MP Front Camera</td>\n",
       "      <td>Memory Card (Hybrid)</td>\n",
       "      <td>...</td>\n",
       "      <td>12</td>\n",
       "      <td>128</td>\n",
       "      <td>33.0</td>\n",
       "      <td>1200 x 2400 px</td>\n",
       "      <td>2</td>\n",
       "      <td>2</td>\n",
       "      <td>0</td>\n",
       "      <td>1200</td>\n",
       "      <td>2400</td>\n",
       "      <td>128.0</td>\n",
       "    </tr>\n",
       "    <tr>\n",
       "      <th>1367</th>\n",
       "      <td>1367</td>\n",
       "      <td>TCL 50 XE NxtPaper 5G</td>\n",
       "      <td>4.00</td>\n",
       "      <td>80</td>\n",
       "      <td>Dual Sim, 3G, 4G, 5G, VoLTE,</td>\n",
       "      <td>6.0</td>\n",
       "      <td>5000</td>\n",
       "      <td>6.6</td>\n",
       "      <td>50 MP + 2 MP Dual Rear &amp;amp; 16 MP Front Camera</td>\n",
       "      <td>Memory Card Supported, upto 1 TB</td>\n",
       "      <td>...</td>\n",
       "      <td>12</td>\n",
       "      <td>256</td>\n",
       "      <td>18.0</td>\n",
       "      <td>720 x 1612 px</td>\n",
       "      <td>2</td>\n",
       "      <td>2</td>\n",
       "      <td>0</td>\n",
       "      <td>720</td>\n",
       "      <td>1612</td>\n",
       "      <td>1024.0</td>\n",
       "    </tr>\n",
       "    <tr>\n",
       "      <th>1368</th>\n",
       "      <td>1368</td>\n",
       "      <td>TCL 40 NxtPaper 5G</td>\n",
       "      <td>4.50</td>\n",
       "      <td>79</td>\n",
       "      <td>Dual Sim, 3G, 4G, 5G, VoLTE,</td>\n",
       "      <td>6.0</td>\n",
       "      <td>5000</td>\n",
       "      <td>6.6</td>\n",
       "      <td>50 MP + 2 MP + 2 MP Triple Rear &amp;amp; 8 MP Fro...</td>\n",
       "      <td>Memory Card Supported, upto 1 TB</td>\n",
       "      <td>...</td>\n",
       "      <td>12</td>\n",
       "      <td>256</td>\n",
       "      <td>15.0</td>\n",
       "      <td>720 x 1612 px</td>\n",
       "      <td>2</td>\n",
       "      <td>2</td>\n",
       "      <td>0</td>\n",
       "      <td>720</td>\n",
       "      <td>1612</td>\n",
       "      <td>1024.0</td>\n",
       "    </tr>\n",
       "    <tr>\n",
       "      <th>1369</th>\n",
       "      <td>1369</td>\n",
       "      <td>TCL Trifold</td>\n",
       "      <td>4.65</td>\n",
       "      <td>93</td>\n",
       "      <td>Dual Sim, 3G, 4G, 5G, VoLTE, Vo5G,</td>\n",
       "      <td>12.0</td>\n",
       "      <td>4600</td>\n",
       "      <td>10.0</td>\n",
       "      <td>50 MP + 48 MP + 8 MP Triple Rear &amp;amp; 32 MP F...</td>\n",
       "      <td>No</td>\n",
       "      <td>...</td>\n",
       "      <td>12</td>\n",
       "      <td>256</td>\n",
       "      <td>67.0</td>\n",
       "      <td>1916 x 2160 px</td>\n",
       "      <td>2</td>\n",
       "      <td>1</td>\n",
       "      <td>3</td>\n",
       "      <td>1916</td>\n",
       "      <td>2160</td>\n",
       "      <td>0.0</td>\n",
       "    </tr>\n",
       "  </tbody>\n",
       "</table>\n",
       "<p>1327 rows × 22 columns</p>\n",
       "</div>"
      ],
      "text/plain": [
       "      Unnamed: 0                                  Name  Rating  Spec_score  \\\n",
       "0              0                 Samsung Galaxy F14 5G    4.65          68   \n",
       "1              1                    Samsung Galaxy A11    4.20          63   \n",
       "2              2                    Samsung Galaxy A13    4.30          75   \n",
       "3              3                    Samsung Galaxy F23    4.10          73   \n",
       "4              4  Samsung Galaxy A03s (4GB RAM + 64GB)    4.10          69   \n",
       "...          ...                                   ...     ...         ...   \n",
       "1365        1365                               TCL 40R    4.05          75   \n",
       "1366        1366                 TCL 50 XL NxtPaper 5G    4.10          80   \n",
       "1367        1367                 TCL 50 XE NxtPaper 5G    4.00          80   \n",
       "1368        1368                    TCL 40 NxtPaper 5G    4.50          79   \n",
       "1369        1369                           TCL Trifold    4.65          93   \n",
       "\n",
       "                               No_of_sim   Ram  Battery  Display  \\\n",
       "0           Dual Sim, 3G, 4G, 5G, VoLTE,   4.0     6000      6.6   \n",
       "1               Dual Sim, 3G, 4G, VoLTE,   2.0     4000      6.4   \n",
       "2               Dual Sim, 3G, 4G, VoLTE,   4.0     5000      6.6   \n",
       "3               Dual Sim, 3G, 4G, VoLTE,   4.0     6000      6.4   \n",
       "4               Dual Sim, 3G, 4G, VoLTE,   4.0     5000      6.5   \n",
       "...                                  ...   ...      ...      ...   \n",
       "1365        Dual Sim, 3G, 4G, 5G, VoLTE,   4.0     5000      6.6   \n",
       "1366            Dual Sim, 3G, 4G, VoLTE,   8.0     5000      6.8   \n",
       "1367        Dual Sim, 3G, 4G, 5G, VoLTE,   6.0     5000      6.6   \n",
       "1368        Dual Sim, 3G, 4G, 5G, VoLTE,   6.0     5000      6.6   \n",
       "1369  Dual Sim, 3G, 4G, 5G, VoLTE, Vo5G,  12.0     4600     10.0   \n",
       "\n",
       "                                                 Camera  \\\n",
       "0       50 MP + 2 MP Dual Rear &amp; 13 MP Front Camera   \n",
       "1     13 MP + 5 MP + 2 MP Triple Rear &amp; 8 MP Fro...   \n",
       "2               50 MP Quad Rear &amp; 8 MP Front Camera   \n",
       "3              48 MP Quad Rear &amp; 13 MP Front Camera   \n",
       "4     13 MP + 2 MP + 2 MP Triple Rear &amp; 5 MP Fro...   \n",
       "...                                                 ...   \n",
       "1365  50 MP + 2 MP + 2 MP Triple Rear &amp; 8 MP Fro...   \n",
       "1366    50 MP + 2 MP Dual Rear &amp; 16 MP Front Camera   \n",
       "1367    50 MP + 2 MP Dual Rear &amp; 16 MP Front Camera   \n",
       "1368  50 MP + 2 MP + 2 MP Triple Rear &amp; 8 MP Fro...   \n",
       "1369  50 MP + 48 MP + 8 MP Triple Rear &amp; 32 MP F...   \n",
       "\n",
       "                         External_Memory  ...  company  Inbuilt_memory  \\\n",
       "0       Memory Card Supported, upto 1 TB  ...        3             128   \n",
       "1     Memory Card Supported, upto 512 GB  ...        3              32   \n",
       "2       Memory Card Supported, upto 1 TB  ...        3              64   \n",
       "3       Memory Card Supported, upto 1 TB  ...        3              64   \n",
       "4       Memory Card Supported, upto 1 TB  ...        3              64   \n",
       "...                                  ...  ...      ...             ...   \n",
       "1365                Memory Card (Hybrid)  ...       12              64   \n",
       "1366                Memory Card (Hybrid)  ...       12             128   \n",
       "1367    Memory Card Supported, upto 1 TB  ...       12             256   \n",
       "1368    Memory Card Supported, upto 1 TB  ...       12             256   \n",
       "1369                                  No  ...       12             256   \n",
       "\n",
       "      fast_charging                             Screen_resolution  Processor  \\\n",
       "0              25.0  2408 x 1080 px Display with Water Drop Notch          2   \n",
       "1              15.0         720 x 1560 px Display with Punch Hole          2   \n",
       "2              25.0  1080 x 2408 px Display with Water Drop Notch          2   \n",
       "3               0.0                                 720 x 1600 px          2   \n",
       "4              15.0   720 x 1600 px Display with Water Drop Notch          2   \n",
       "...             ...                                           ...        ...   \n",
       "1365           15.0                                 720 x 1612 px          2   \n",
       "1366           33.0                                1200 x 2400 px          2   \n",
       "1367           18.0                                 720 x 1612 px          2   \n",
       "1368           15.0                                 720 x 1612 px          2   \n",
       "1369           67.0                                1916 x 2160 px          2   \n",
       "\n",
       "     Processor_name  Fold_and_dual_dis  hresolution  vresolution  \\\n",
       "0                 4                  0         2408         1080   \n",
       "1                 1                  0          720         1560   \n",
       "2                 1                  0         1080         2408   \n",
       "3                 3                  0          720         1600   \n",
       "4                 3                  0          720         1600   \n",
       "...             ...                ...          ...          ...   \n",
       "1365              2                  0          720         1612   \n",
       "1366              2                  0         1200         2400   \n",
       "1367              2                  0          720         1612   \n",
       "1368              2                  0          720         1612   \n",
       "1369              1                  3         1916         2160   \n",
       "\n",
       "      External_memory  \n",
       "0              1024.0  \n",
       "1               512.0  \n",
       "2              1024.0  \n",
       "3              1024.0  \n",
       "4              1024.0  \n",
       "...               ...  \n",
       "1365            128.0  \n",
       "1366            128.0  \n",
       "1367           1024.0  \n",
       "1368           1024.0  \n",
       "1369              0.0  \n",
       "\n",
       "[1327 rows x 22 columns]"
      ]
     },
     "execution_count": 122,
     "metadata": {},
     "output_type": "execute_result"
    }
   ],
   "source": [
    "df"
   ]
  },
  {
   "cell_type": "code",
   "execution_count": null,
   "id": "305d61fb",
   "metadata": {},
   "outputs": [],
   "source": []
  }
 ],
 "metadata": {
  "kernelspec": {
   "display_name": "Python 3 (ipykernel)",
   "language": "python",
   "name": "python3"
  },
  "language_info": {
   "codemirror_mode": {
    "name": "ipython",
    "version": 3
   },
   "file_extension": ".py",
   "mimetype": "text/x-python",
   "name": "python",
   "nbconvert_exporter": "python",
   "pygments_lexer": "ipython3",
   "version": "3.7.9"
  }
 },
 "nbformat": 4,
 "nbformat_minor": 5
}
